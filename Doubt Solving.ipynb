{
 "cells": [
  {
   "cell_type": "code",
   "execution_count": 1,
   "id": "36926853",
   "metadata": {},
   "outputs": [
    {
     "name": "stdout",
     "output_type": "stream",
     "text": [
      "{40, 10, 80, 50, 20, 60, 30}\n"
     ]
    }
   ],
   "source": [
    "# Remove duplicates from a list.\n",
    "\n",
    "a = [10,20,30,20,10,50,60,40,80,50,40]\n",
    "\n",
    "dup_items = set()\n",
    "uniq_items = []\n",
    "for x in a:\n",
    "    if x not in dup_items:\n",
    "        uniq_items.append(x)\n",
    "        dup_items.add(x)\n",
    "\n",
    "print(dup_items)"
   ]
  },
  {
   "cell_type": "code",
   "execution_count": 2,
   "id": "dbd74110",
   "metadata": {},
   "outputs": [
    {
     "name": "stdout",
     "output_type": "stream",
     "text": [
      "\n",
      "Original list:\n",
      "[1234, 122, 1984, 19372, 100]\n",
      "Check if first digit in each element of the said given list is same or not!\n",
      "True\n",
      "\n",
      "Original list:\n",
      "[1234, 922, 1984, 19372, 100]\n",
      "Check if first digit in each element of the said given list is same or not!\n",
      "False\n",
      "\n",
      "Original list:\n",
      "['aabc', 'abc', 'ab', 'a']\n",
      "Check if first character in each element of the said given list is same or not!\n",
      "True\n",
      "\n",
      "Original list:\n",
      "['aabc', 'abc', 'ab', 'ha']\n",
      "Check if first character in each element of the said given list is same or not!\n",
      "False\n"
     ]
    }
   ],
   "source": [
    "# Check if first digit/character in each element in a given list is same or not.\n",
    "\n",
    "def test(lst):\n",
    "    result = all(str(x)[0] == str(lst[0])[0] for x in lst) \n",
    "    return result\n",
    "nums = [1234, 122, 1984, 19372, 100]\n",
    "print(\"\\nOriginal list:\")\n",
    "print(nums)\n",
    "print(\"Check if first digit in each element of the said given list is same or not!\")\n",
    "print(test(nums))\n",
    "nums = [1234, 922, 1984, 19372, 100]\n",
    "print(\"\\nOriginal list:\")\n",
    "print(nums)\n",
    "print(\"Check if first digit in each element of the said given list is same or not!\")\n",
    "print(test(nums))\n",
    "nums = ['aabc', 'abc', 'ab', 'a']\n",
    "print(\"\\nOriginal list:\")\n",
    "print(nums)\n",
    "print(\"Check if first character in each element of the said given list is same or not!\")\n",
    "print(test(nums))\n",
    "nums = ['aabc', 'abc', 'ab', 'ha']\n",
    "print(\"\\nOriginal list:\")\n",
    "print(nums)\n",
    "print(\"Check if first character in each element of the said given list is same or not!\")\n",
    "print(test(nums))"
   ]
  },
  {
   "cell_type": "code",
   "execution_count": 3,
   "id": "d437fa38",
   "metadata": {},
   "outputs": [
    {
     "name": "stdout",
     "output_type": "stream",
     "text": [
      "Original list:\n",
      "['1', '2', '3', '4', '5', '6', '7', '8']\n",
      "\n",
      "Join adjacent members of a given list:\n",
      "['12', '34', '56', '78']\n",
      "\n",
      "Original list:\n",
      "['1', '2', '3']\n",
      "\n",
      "Join adjacent members of a given list:\n",
      "['12']\n"
     ]
    }
   ],
   "source": [
    "# Join adjacent members of a given list.\n",
    "\n",
    "def test(lst):\n",
    "    result = [x + y for x, y in zip(lst[::2],lst[1::2])]\n",
    "    return result\n",
    "\n",
    "nums = ['1','2','3','4','5','6','7','8']\n",
    "print(\"Original list:\")\n",
    "print(nums)\n",
    "print(\"\\nJoin adjacent members of a given list:\")\n",
    "print(test(nums))\n",
    "\n",
    "nums = ['1','2','3']\n",
    "print(\"\\nOriginal list:\")\n",
    "print(nums)\n",
    "print(\"\\nJoin adjacent members of a given list:\")\n",
    "print(test(nums))"
   ]
  },
  {
   "cell_type": "code",
   "execution_count": 4,
   "id": "fb33fd26",
   "metadata": {},
   "outputs": [
    {
     "name": "stdout",
     "output_type": "stream",
     "text": [
      "Original list:\n",
      "[1, None, 5, 4, None, 0, None, None]\n",
      "\n",
      "Indexes of all None items of the list:\n",
      "[1, 4, 6, 7]\n"
     ]
    }
   ],
   "source": [
    "# Find the indexes of all None items in a given list.\n",
    "\n",
    "def relative_order(lst):\n",
    "    result = [i for i in range(len(lst)) if lst[i] == None]\n",
    "    return result\n",
    "\n",
    "nums = [1, None, 5, 4,None, 0, None, None]\n",
    "print(\"Original list:\")\n",
    "print(nums)\n",
    "print(\"\\nIndexes of all None items of the list:\")\n",
    "print(relative_order(nums))"
   ]
  },
  {
   "cell_type": "code",
   "execution_count": 7,
   "id": "1f227599",
   "metadata": {},
   "outputs": [
    {
     "name": "stdout",
     "output_type": "stream",
     "text": [
      "Original lists:\n",
      "[1, 2, 3, 4, 5, 6]\n",
      "Pair up the consecutive elements of the said list:\n",
      "[[1, 2], [2, 3], [3, 4], [4, 5], [5, 6]]\n",
      "\n",
      "Original lists:\n",
      "[1, 2, 3, 4, 5]\n",
      "Pair up the consecutive elements of the said list:\n",
      "[[1, 2], [2, 3], [3, 4], [4, 5]]\n"
     ]
    }
   ],
   "source": [
    "# Pair up the consecutive elements of a given list.\n",
    "\n",
    "def pair_consecutive_elements(lst):\n",
    "    result = [[lst[i], lst[i + 1]] for i in range(len(lst) - 1)]\n",
    "    return result\n",
    "nums =  [1,2,3,4,5,6]\n",
    "print(\"Original lists:\")\n",
    "print(nums)\n",
    "print(\"Pair up the consecutive elements of the said list:\")\n",
    "print(pair_consecutive_elements(nums))\n",
    "nums =  [1,2,3,4,5]\n",
    "print(\"\\nOriginal lists:\")\n",
    "print(nums)\n",
    "print(\"Pair up the consecutive elements of the said list:\")\n",
    "print(pair_consecutive_elements(nums))"
   ]
  },
  {
   "cell_type": "code",
   "execution_count": 8,
   "id": "9ef0cc6e",
   "metadata": {},
   "outputs": [
    {
     "name": "stdout",
     "output_type": "stream",
     "text": [
      "Original lists:\n",
      "['S001', 'S002', 'S003', 'S004']\n",
      " Convert the said unicode list to a list contains strings:\n",
      "['S001', 'S002', 'S003', 'S004']\n"
     ]
    }
   ],
   "source": [
    "# Convert a given unicode list to a list contains strings.\n",
    "\n",
    "def unicode_to_str(lst):\n",
    "    result = [str(x) for x in lst]\n",
    "    return result\n",
    "students =  [u'S001', u'S002', u'S003', u'S004']\n",
    "print(\"Original lists:\")\n",
    "print(students)\n",
    "print(\" Convert the said unicode list to a list contains strings:\")\n",
    "print(unicode_to_str(students))"
   ]
  },
  {
   "cell_type": "code",
   "execution_count": 9,
   "id": "6996364e",
   "metadata": {},
   "outputs": [
    {
     "name": "stdout",
     "output_type": "stream",
     "text": [
      "Original list:\n",
      "[[0, 1, 2], [2, 3, 4], [3, 4, 5, 6], [7, 8, 9, 10, 11], [12, 13, 14]]\n",
      "\n",
      "Average of n-th elements in the said list of lists with different lengths:\n",
      "[4.8, 5.8, 6.8, 8.0, 11.0]\n"
     ]
    }
   ],
   "source": [
    "# Compute the average of nth elements in a given list of lists with different lengths.\n",
    "\n",
    "import itertools as it\n",
    "nums = [[0, 1, 2],\n",
    "       [2, 3, 4],\n",
    "       [3, 4, 5, 6],\n",
    "       [7, 8, 9, 10, 11],\n",
    "       [12, 13, 14]]\n",
    "\n",
    "print(\"Original list:\")\n",
    "print(nums)\n",
    "def get_avg(x):\n",
    "    x = [i for i in x if i is not None]\n",
    "    return sum(x, 0.0) / len(x)\n",
    "result = map(get_avg, it.zip_longest(*nums))\n",
    "print(\"\\nAverage of n-th elements in the said list of lists with different lengths:\")\n",
    "print(list(result))"
   ]
  },
  {
   "cell_type": "code",
   "execution_count": 10,
   "id": "489484e1",
   "metadata": {},
   "outputs": [
    {
     "name": "stdout",
     "output_type": "stream",
     "text": [
      "Original list:\n",
      "['red', 'green', 'white', 'black', 'orange']\n",
      "Move white at the end of the said list:\n",
      "['red', 'green', 'black', 'orange', 'white']\n",
      "\n",
      "Original list:\n",
      "['red', 'green', 'white', 'black', 'orange']\n",
      "Move red at the end of the said list:\n",
      "['green', 'white', 'black', 'orange', 'red']\n",
      "\n",
      "Original list:\n",
      "['red', 'green', 'white', 'black', 'orange']\n",
      "Move black at the end of the said list:\n",
      "['red', 'green', 'white', 'orange', 'black']\n"
     ]
    }
   ],
   "source": [
    "# Move a specified element in a given list.\n",
    "\n",
    "def group_similar_items(seq,el):\n",
    "    seq.append(seq.pop(seq.index(el)))\n",
    "    return seq \n",
    "\n",
    "colors = ['red','green','white','black','orange']\n",
    "print(\"Original list:\")\n",
    "print(colors)\n",
    "el = \"white\"\n",
    "print(\"Move\",el,\"at the end of the said list:\")\n",
    "print(group_similar_items(colors, el))\n",
    "\n",
    "colors = ['red','green','white','black','orange']\n",
    "print(\"\\nOriginal list:\")\n",
    "print(colors)\n",
    "el = \"red\"\n",
    "print(\"Move\",el,\"at the end of the said list:\")\n",
    "print(group_similar_items(colors, el))\n",
    "\n",
    "colors = ['red','green','white','black','orange']\n",
    "print(\"\\nOriginal list:\")\n",
    "print(colors)\n",
    "el = \"black\"\n",
    "print(\"Move\",el,\"at the end of the said list:\")\n",
    "print(group_similar_items(colors, el))"
   ]
  },
  {
   "cell_type": "code",
   "execution_count": 11,
   "id": "b6dc1363",
   "metadata": {},
   "outputs": [
    {
     "name": "stdout",
     "output_type": "stream",
     "text": [
      "Original list:\n",
      "['red', 'green', 'white', 'black']\n",
      "\n",
      "Traverse the said list in reverse order:\n",
      "black\n",
      "white\n",
      "green\n",
      "red\n",
      "\n",
      "Traverse the said list in reverse order with original index:\n",
      "3 black\n",
      "2 white\n",
      "1 green\n",
      "0 red\n"
     ]
    }
   ],
   "source": [
    "# Traverse a given list in reverse order, also print the elements with original index.\n",
    "\n",
    "color = [\"red\", \"green\", \"white\", \"black\"]\n",
    "print(\"Original list:\")\n",
    "print(color)\n",
    "print(\"\\nTraverse the said list in reverse order:\")\n",
    "for i in reversed(color):\n",
    "    print(i)\n",
    "print(\"\\nTraverse the said list in reverse order with original index:\")\n",
    "for i, el in reversed(list(enumerate(color))):\n",
    "    print(i, el) "
   ]
  },
  {
   "cell_type": "code",
   "execution_count": 12,
   "id": "f6b49e6f",
   "metadata": {},
   "outputs": [
    {
     "name": "stdout",
     "output_type": "stream",
     "text": [
      "\n",
      "Original list:\n",
      "[[1, 2, 4], [2, 4, 4], [1, 2]]\n",
      "Sum said lists with different lengths:\n",
      "[4, 8, 8]\n",
      "\n",
      "Original list:\n",
      "[[1], [2, 4, 4], [1, 2], [4]]\n",
      "Sum said lists with different lengths:\n",
      "[8, 6, 4]\n"
     ]
    }
   ],
   "source": [
    "# Sum two or more lists, the lengths of the lists may be different.\n",
    "\n",
    "def sum_lists_diff_length(test_list):\n",
    "    result =  [sum(x) for x in zip(*map(lambda x:x+[0]*max(map(len, test_list)) if len(x)<max(map(len, test_list)) else x, test_list))]\n",
    "    return result\n",
    "\n",
    "nums = [[1,2,4],[2,4,4],[1,2]]\n",
    "print(\"\\nOriginal list:\")\n",
    "print(nums)\n",
    "print(\"Sum said lists with different lengths:\")\n",
    "print(sum_lists_diff_length(nums))\n",
    "\n",
    "nums = [[1],[2,4,4],[1,2],[4]]\n",
    "print(\"\\nOriginal list:\")\n",
    "print(nums)\n",
    "print(\"Sum said lists with different lengths:\")\n",
    "print(sum_lists_diff_length(nums))"
   ]
  },
  {
   "cell_type": "code",
   "execution_count": 13,
   "id": "ff2b32d5",
   "metadata": {},
   "outputs": [
    {
     "name": "stdout",
     "output_type": "stream",
     "text": [
      "\n",
      "Original list:\n",
      "[[1, 2], [2, 4]]\n",
      "Dimension of the said matrix:\n",
      "(2, 2)\n",
      "\n",
      "Original list:\n",
      "[[0, 1, 2], [2, 4, 5]]\n",
      "Dimension of the said matrix:\n",
      "(2, 3)\n",
      "\n",
      "Original list:\n",
      "[[0, 1, 2], [2, 4, 5], [2, 3, 4]]\n",
      "Dimension of the said matrix:\n",
      "(3, 3)\n"
     ]
    }
   ],
   "source": [
    "# Find the dimension of a given matrix.\n",
    "\n",
    "def matrix_dimensions(test_list):\n",
    "    row = len(test_list)\n",
    "    column = len(test_list[0])\n",
    "    return row,column\n",
    "\n",
    "lst = [[1,2],[2,4]]\n",
    "print(\"\\nOriginal list:\")\n",
    "print(lst)\n",
    "print(\"Dimension of the said matrix:\")\n",
    "print(matrix_dimensions(lst))\n",
    "lst = [[0,1,2],[2,4,5]]\n",
    "print(\"\\nOriginal list:\")\n",
    "print(lst)\n",
    "print(\"Dimension of the said matrix:\")\n",
    "print(matrix_dimensions(lst))\n",
    "lst = [[0,1,2],[2,4,5],[2,3,4]]\n",
    "print(\"\\nOriginal list:\")\n",
    "print(lst)\n",
    "print(\"Dimension of the said matrix:\")\n",
    "print(matrix_dimensions(lst)) "
   ]
  },
  {
   "cell_type": "code",
   "execution_count": 14,
   "id": "33eabdde",
   "metadata": {},
   "outputs": [
    {
     "name": "stdout",
     "output_type": "stream",
     "text": [
      "\n",
      "Original list:\n",
      "[(100, 'Math'), (80, 'Math'), (90, 'Math'), (88, 'Science', 89), (90, 'Science', 92)]\n",
      "\n",
      "Remove all strings from the said list of tuples:\n",
      "[(100,), (80,), (90,), (88, 89), (90, 92)]\n"
     ]
    }
   ],
   "source": [
    "# Remove all strings from a given list of tuples.\n",
    "\n",
    "def test(list1):\n",
    "    result =   [tuple(v for v in i if not isinstance(v, str)) for i in list1]\n",
    "    return list(result)\n",
    "\n",
    "marks = [(100, 'Math'), (80, 'Math'), (90, 'Math'), (88, 'Science', 89), (90, 'Science', 92)]\n",
    "print(\"\\nOriginal list:\")\n",
    "print(marks)\n",
    "print(\"\\nRemove all strings from the said list of tuples:\")\n",
    "print(test(marks))"
   ]
  },
  {
   "cell_type": "code",
   "execution_count": 15,
   "id": "6a3583dc",
   "metadata": {},
   "outputs": [
    {
     "name": "stdout",
     "output_type": "stream",
     "text": [
      "Original lists:\n",
      "[2, 3, 5, 8, 7, 2, 3]\n",
      "[4, 3, 9, 0, 4, 3, 9]\n",
      "[2, 1, 5, 6, 5, 5, 4]\n",
      "Maximum value of the said three lists:\n",
      "9\n",
      "Minimum value of the said three lists:\n",
      "0\n"
     ]
    }
   ],
   "source": [
    "# Maximum and minimum value of the three given lists.\n",
    "\n",
    "nums1 = [2,3,5,8,7,2,3]\n",
    "nums2 = [4,3,9,0,4,3,9]\n",
    "nums3 = [2,1,5,6,5,5,4]\n",
    "print(\"Original lists:\")\n",
    "print(nums1)\n",
    "print(nums2)\n",
    "print(nums3)\n",
    "print(\"Maximum value of the said three lists:\")\n",
    "print(max(nums1+nums2+nums3))\n",
    "print(\"Minimum value of the said three lists:\")\n",
    "print(min(nums1+nums2+nums3))"
   ]
  },
  {
   "cell_type": "code",
   "execution_count": 16,
   "id": "982162ec",
   "metadata": {},
   "outputs": [
    {
     "name": "stdout",
     "output_type": "stream",
     "text": [
      "Original list:\n",
      "[1, 2, 3, 4, 5, 6, 7]\n",
      "Shift last element to first position and first element to last position of the said list:\n",
      "[7, 2, 3, 4, 5, 6, 1]\n",
      "\n",
      "Original list:\n",
      "['s', 'd', 'f', 'd', 's', 's', 'd', 'f']\n",
      "Shift last element to first position and first element to last position of the said list:\n",
      "['f', 'd', 'f', 'd', 's', 's', 'd', 's']\n"
     ]
    }
   ],
   "source": [
    "# Shift last element to first position and first element to last position in a list.\n",
    "\n",
    "def shift_first_last(lst):\n",
    "    x = lst.pop(0)\n",
    "    y = lst.pop()\n",
    "    lst.insert(0, y)\n",
    "    lst.insert(len(lst), x)\n",
    "    return lst\n",
    "\n",
    "nums = [1,2,3,4,5,6,7]\n",
    "print(\"Original list:\")\n",
    "print(nums)\n",
    "print(\"Shift last element to first position and first element to last position of the said list:\")\n",
    "print(shift_first_last(nums))\n",
    "\n",
    "chars = ['s','d','f','d','s','s','d','f']\n",
    "print(\"\\nOriginal list:\")\n",
    "print(chars)\n",
    "print(\"Shift last element to first position and first element to last position of the said list:\")\n",
    "print(shift_first_last(chars))"
   ]
  },
  {
   "cell_type": "code",
   "execution_count": 17,
   "id": "b83c15e8",
   "metadata": {},
   "outputs": [
    {
     "name": "stdout",
     "output_type": "stream",
     "text": [
      "Original list of tuples:\n",
      "[('item2', 10, 10.12), ('item3', 15, 25.1), ('item1', 11, 24.5), ('item4', 12, 22.5)]\n",
      "\n",
      "Sort on 1st element of the tuple of the said list:\n",
      "[('item1', 11, 24.5), ('item2', 10, 10.12), ('item3', 15, 25.1), ('item4', 12, 22.5)]\n",
      "\n",
      "Sort on 2nd element of the tuple of the said list:\n",
      "[('item2', 10, 10.12), ('item1', 11, 24.5), ('item4', 12, 22.5), ('item3', 15, 25.1)]\n",
      "\n",
      "Sort on 3rd element of the tuple of the said list:\n",
      "[('item2', 10, 10.12), ('item4', 12, 22.5), ('item1', 11, 24.5), ('item3', 15, 25.1)]\n"
     ]
    }
   ],
   "source": [
    "# Sort a given list of tuples on specified element.\n",
    "\n",
    "def sort_on_specific_item(lst, n):\n",
    "    result = sorted((lst), key=lambda x: x[n])\n",
    "    return result   \n",
    "items = [('item2', 10, 10.12), ('item3', 15, 25.10), ('item1', 11, 24.50),('item4', 12, 22.50)]\n",
    "print(\"Original list of tuples:\")\n",
    "print(items)\n",
    "print(\"\\nSort on 1st element of the tuple of the said list:\")\n",
    "n = 0\n",
    "print(sort_on_specific_item(items, n))\n",
    "print(\"\\nSort on 2nd element of the tuple of the said list:\")\n",
    "n = 1\n",
    "print(sort_on_specific_item(items, n))\n",
    "print(\"\\nSort on 3rd element of the tuple of the said list:\")\n",
    "n = 2\n",
    "print(sort_on_specific_item(items, n))"
   ]
  },
  {
   "cell_type": "code",
   "execution_count": 18,
   "id": "3e158cf0",
   "metadata": {},
   "outputs": [
    {
     "name": "stdout",
     "output_type": "stream",
     "text": [
      "Original list of tuples:\n",
      "[('red', 'green'), ('black', 'white'), ('orange', 'pink')]\n",
      "\n",
      "Convert the said list of tuples to a list of strings:\n",
      "['red green', 'black white', 'orange pink']\n",
      "\n",
      "Original list of tuples:\n",
      "[('Laiba', 'Delacruz'), ('Mali', 'Stacey', 'Drummond'), ('Raja', 'Welch'), ('Saarah', 'Stone')]\n",
      "\n",
      "Convert the said list of tuples to a list of strings:\n",
      "['Laiba Delacruz', 'Mali Stacey Drummond', 'Raja Welch', 'Saarah Stone']\n"
     ]
    }
   ],
   "source": [
    "# Convert a given list of tuples to a list of strings.\n",
    "\n",
    "def tuples_to_list_str(lst):\n",
    "    result = [(\"%s \"*len(el)%el).strip() for el in lst]\n",
    "    return result   \n",
    "colors = [('red', 'green'), ('black', 'white'), ('orange', 'pink')]\n",
    "print(\"Original list of tuples:\")\n",
    "print(colors)\n",
    "print(\"\\nConvert the said list of tuples to a list of strings:\")\n",
    "print(tuples_to_list_str(colors))\n",
    "names = [('Laiba','Delacruz'), ('Mali','Stacey','Drummond'), ('Raja','Welch'), ('Saarah','Stone')]\n",
    "print(\"\\nOriginal list of tuples:\")\n",
    "print(names)\n",
    "print(\"\\nConvert the said list of tuples to a list of strings:\")\n",
    "print(tuples_to_list_str(names))"
   ]
  },
  {
   "cell_type": "code",
   "execution_count": 19,
   "id": "596011a1",
   "metadata": {},
   "outputs": [
    {
     "name": "stdout",
     "output_type": "stream",
     "text": [
      "Original list:\n",
      "['Sum all the items in a list', 'Find the second smallest number in a list']\n",
      "\n",
      "Bigram sequence of the said list:\n",
      "[('Sum', 'all'), ('all', 'the'), ('the', 'items'), ('items', 'in'), ('in', 'a'), ('a', 'list'), ('Find', 'the'), ('the', 'second'), ('second', 'smallest'), ('smallest', 'number'), ('number', 'in'), ('in', 'a'), ('a', 'list')]\n"
     ]
    }
   ],
   "source": [
    "# Bigrams of words in a given list of strings.\n",
    "\n",
    "def bigram_sequence(text_lst):\n",
    "    result = [a for ls in text_lst for a in zip(ls.split(\" \")[:-1], ls.split(\" \")[1:])]\n",
    "    return result\n",
    "text = [\"Sum all the items in a list\", \"Find the second smallest number in a list\"]\n",
    "print(\"Original list:\")\n",
    "print(text)\n",
    "print(\"\\nBigram sequence of the said list:\")\n",
    "print(bigram_sequence(text))"
   ]
  },
  {
   "cell_type": "code",
   "execution_count": 20,
   "id": "138b4bfc",
   "metadata": {},
   "outputs": [
    {
     "name": "stdout",
     "output_type": "stream",
     "text": [
      "Original list:\n",
      "[[1, 2, 3, 5], [2, 3, 5, 4], [0, 5, 4, 1], [3, 7, 2, 1], [1, 2, 1, 2]]\n",
      "Unique values of the said list of lists:\n",
      "[0, 1, 2, 3, 4, 5, 7]\n",
      "\n",
      "Original list:\n",
      "[['h', 'g', 'l', 'k'], ['a', 'b', 'd', 'e', 'c'], ['j', 'i', 'y'], ['n', 'b', 'v', 'c'], ['x', 'z']]\n",
      "Unique values of the said list of lists:\n",
      "['b', 'e', 'v', 'a', 'i', 'l', 'j', 'y', 'd', 'n', 'h', 'z', 'x', 'c', 'k', 'g']\n"
     ]
    }
   ],
   "source": [
    "# Unique values in a given list of lists.\n",
    "\n",
    "def unique_values_in_list_of_lists(lst):\n",
    "    result = set(x for l in lst for x in l)\n",
    "    return list(result)\n",
    "nums = [[1,2,3,5], [2,3,5,4], [0,5,4,1], [3,7,2,1], [1,2,1,2]]\n",
    "print(\"Original list:\")\n",
    "print(nums)\n",
    "print(\"Unique values of the said list of lists:\")\n",
    "print(unique_values_in_list_of_lists(nums))\n",
    "chars = [['h','g','l','k'], ['a','b','d','e','c'], ['j','i','y'], ['n','b','v','c'], ['x','z']]\n",
    "print(\"\\nOriginal list:\")\n",
    "print(chars)\n",
    "print(\"Unique values of the said list of lists:\")\n",
    "print(unique_values_in_list_of_lists(chars))"
   ]
  },
  {
   "cell_type": "code",
   "execution_count": 21,
   "id": "7b61265e",
   "metadata": {},
   "outputs": [
    {
     "name": "stdout",
     "output_type": "stream",
     "text": [
      "Original list:\n",
      "[[1, 2, 3, 5], [2, 3, 5, 4], [0, 5, 4, 1], [3, 7, 2, 1], [1, 2, 1, 2]]\n",
      "\n",
      "Maximum sum of sub list of the said list of lists:\n",
      "[2, 3, 5, 4]\n",
      "\n",
      "Minimum sum of sub list of the said list of lists:\n",
      "[1, 2, 1, 2]\n"
     ]
    }
   ],
   "source": [
    "# Calculate the maximum and minimum sum of a sublist in a given list of lists.\n",
    "\n",
    "def max_min_sublist(lst):\n",
    "    max_result = (max(lst, key=sum))\n",
    "    min_result = (min(lst, key=sum))\n",
    "    return max_result,min_result\n",
    "\n",
    "nums = [[1,2,3,5], [2,3,5,4], [0,5,4,1], [3,7,2,1], [1,2,1,2]]\n",
    "print(\"Original list:\")\n",
    "print(nums)\n",
    "result = max_min_sublist(nums)\n",
    "print(\"\\nMaximum sum of sub list of the said list of lists:\")\n",
    "print(result[0])\n",
    "print(\"\\nMinimum sum of sub list of the said list of lists:\")\n",
    "print(result[1])\n"
   ]
  },
  {
   "cell_type": "code",
   "execution_count": 22,
   "id": "00c9aa7f",
   "metadata": {},
   "outputs": [
    {
     "name": "stdout",
     "output_type": "stream",
     "text": [
      "Original list:\n",
      "['a', 'b', 'c', 'd', 'e', 'f', 'g', 'h']\n",
      "\n",
      "Iterate the said  list cyclically on specific index position 3 :\n",
      "['d', 'e', 'f', 'g', 'h', 'a', 'b', 'c']\n",
      "\n",
      "Iterate the said  list cyclically on specific index position 5 :\n",
      "['f', 'g', 'h', 'a', 'b', 'c', 'd', 'e']\n"
     ]
    }
   ],
   "source": [
    "# Iterate a given list cyclically on specific index position.\n",
    "\n",
    "def cyclically_iteration(lst,spec_index):\n",
    "    result = []\n",
    "    length = len(lst)\n",
    "    for i in range(length):\n",
    "        element_index = spec_index % length\n",
    "        result.append(lst[element_index])\n",
    "        spec_index += 1\n",
    "    return result\n",
    "\n",
    "chars = ['a', 'b', 'c', 'd', 'e', 'f', 'g', 'h']\n",
    "print(\"Original list:\")\n",
    "print(chars)\n",
    "spec_index = 3\n",
    "print(\"\\nIterate the said  list cyclically on specific index position\",spec_index,\":\")\n",
    "print(cyclically_iteration(chars,spec_index))\n",
    "spec_index = 5\n",
    "print(\"\\nIterate the said  list cyclically on specific index position\",spec_index,\":\")\n",
    "print(cyclically_iteration(chars,spec_index))"
   ]
  },
  {
   "cell_type": "code",
   "execution_count": 23,
   "id": "c27f874f",
   "metadata": {},
   "outputs": [
    {
     "name": "stdout",
     "output_type": "stream",
     "text": [
      "Original list:\n",
      "[3, 40, 41, 43, 74, 9]\n",
      "Smallest possible number using the elements of the said list of positive integers:\n",
      "3404143749\n",
      "\n",
      "Original list:\n",
      "[10, 40, 20, 30, 50, 60]\n",
      "Smallest possible number using the elements of the said list of positive integers:\n",
      "102030405060\n",
      "\n",
      "Original list:\n",
      "[8, 4, 2, 9, 5, 6, 1, 0]\n",
      "Smallest possible number using the elements of the said list of positive integers:\n",
      "01245689\n"
     ]
    }
   ],
   "source": [
    "# Create the smallest possible number using the elements of a given list of integers.\n",
    "\n",
    "def create_largest_number(lst):\n",
    "    if all(val == 0 for val in lst):\n",
    "        return '0'\n",
    "    result = ''.join(sorted((str(val) for val in lst), reverse=False,\n",
    "                      key=lambda i: i*( len(str(min(lst))) * 2 // len(i))))\n",
    "    return result\n",
    "\n",
    "\n",
    "nums = [3, 40, 41, 43, 74, 9]\n",
    "print(\"Original list:\")\n",
    "print(nums)\n",
    "print(\"Smallest possible number using the elements of the said list of positive integers:\")\n",
    "print(create_largest_number(nums))\n",
    "\n",
    "nums = [10, 40, 20, 30, 50, 60]\n",
    "print(\"\\nOriginal list:\")\n",
    "print(nums)\n",
    "print(\"Smallest possible number using the elements of the said list of positive integers:\")\n",
    "print(create_largest_number(nums))\n",
    "nums = [8, 4, 2, 9, 5, 6, 1, 0]\n",
    "print(\"\\nOriginal list:\")\n",
    "print(nums)\n",
    "print(\"Smallest possible number using the elements of the said list of positive integers:\")\n",
    "print(create_largest_number(nums))"
   ]
  },
  {
   "cell_type": "code",
   "execution_count": 24,
   "id": "a42c6666",
   "metadata": {},
   "outputs": [
    {
     "name": "stdout",
     "output_type": "stream",
     "text": [
      "Original list:\n",
      "[3, 40, 41, 43, 74, 9]\n",
      "Largest possible number using the elements of the said list of positive integers:\n",
      "9744341403\n",
      "\n",
      "Original list:\n",
      "[10, 40, 20, 30, 50, 60]\n",
      "Largest possible number using the elements of the said list of positive integers:\n",
      "605040302010\n",
      "\n",
      "Original list:\n",
      "[8, 4, 2, 9, 5, 6, 1, 0]\n",
      "Largest possible number using the elements of the said list of positive integers:\n",
      "98654210\n"
     ]
    }
   ],
   "source": [
    "# Create the largest possible number using the elements of a given list of integers.\n",
    "\n",
    "def create_largest_number(lst):\n",
    "    if all(val == 0 for val in lst):\n",
    "        return '0'\n",
    "    result = ''.join(sorted((str(val) for val in lst), reverse=True,\n",
    "                      key=lambda i: i*( len(str(max(lst))) * 2 // len(i))))\n",
    "    return result\n",
    "nums = [3, 40, 41, 43, 74, 9]\n",
    "print(\"Original list:\")\n",
    "print(nums)\n",
    "print(\"Largest possible number using the elements of the said list of positive integers:\")\n",
    "print(create_largest_number(nums))\n",
    "\n",
    "nums = [10, 40, 20, 30, 50, 60]\n",
    "print(\"\\nOriginal list:\")\n",
    "print(nums)\n",
    "print(\"Largest possible number using the elements of the said list of positive integers:\")\n",
    "print(create_largest_number(nums))\n",
    "nums = [8, 4, 2, 9, 5, 6, 1, 0]\n",
    "print(\"\\nOriginal list:\")\n",
    "print(nums)\n",
    "print(\"Largest possible number using the elements of the said list of positive integers:\")\n",
    "print(create_largest_number(nums))"
   ]
  },
  {
   "cell_type": "code",
   "execution_count": 25,
   "id": "dae704cb",
   "metadata": {},
   "outputs": [
    {
     "name": "stdout",
     "output_type": "stream",
     "text": [
      "Original list:\n",
      "[1, 3, 5, 7, 9, 11, 0, 2, 4, 6, 8, 10, 8, 9, 0, 4, 3, 0]\n",
      "\n",
      "Insert 20 in said list after every 4 th element:\n",
      "[1, 3, 5, 7, 20, 9, 11, 0, 2, 20, 4, 6, 8, 10, 20, 8, 9, 0, 4, 20, 3, 0]\n",
      "\n",
      "Original list:\n",
      "['s', 'd', 'f', 'j', 's', 'a', 'j', 'd', 'f', 'd']\n",
      "\n",
      "Insert Z in said list after every 3 th element:\n",
      "['s', 'd', 'f', 'Z', 'j', 's', 'a', 'Z', 'j', 'd', 'f', 'Z', 'd']\n"
     ]
    }
   ],
   "source": [
    "# Insert a specified element in a given list after every nth element.\n",
    "\n",
    "def inset_element_list(lst, x, n):\n",
    "    i = n\n",
    "    while i < len(lst):\n",
    "        lst.insert(i, x)\n",
    "        i+= n+1\n",
    "    return lst\n",
    "\n",
    "nums = [1, 3, 5, 7, 9, 11,0, 2, 4, 6, 8, 10,8,9,0,4,3,0]\n",
    "print(\"Original list:\")\n",
    "print(nums)\n",
    "x = 20\n",
    "n = 4\n",
    "print(\"\\nInsert\",x,\"in said list after every\",n,\"th element:\")\n",
    "print(inset_element_list(nums, x, n))\n",
    "\n",
    "chars = ['s','d','f','j','s','a','j','d','f','d']\n",
    "print(\"\\nOriginal list:\")\n",
    "print(chars)\n",
    "x = 'Z'\n",
    "n = 3\n",
    "print(\"\\nInsert\",x,\"in said list after every\",n,\"th element:\")\n",
    "print(inset_element_list(chars, x, n))"
   ]
  },
  {
   "cell_type": "code",
   "execution_count": 26,
   "id": "dc91596b",
   "metadata": {},
   "outputs": [
    {
     "name": "stdout",
     "output_type": "stream",
     "text": [
      "Original list:\n",
      "[[7, 2, 3, 4, 7], [9, 2, 3, 2, 5], [8, 2, 3, 4, 4]]\n",
      "\n",
      "Common elements of the said list of lists:\n",
      "[2, 3]\n",
      "\n",
      "Original list:\n",
      "[['a', 'b', 'c'], ['b', 'c', 'd'], ['c', 'd', 'e']]\n",
      "\n",
      "Common elements of the said list of lists:\n",
      "['c']\n"
     ]
    }
   ],
   "source": [
    "# Common elements in a given list of lists.\n",
    "\n",
    "def common_list_of_lists(lst):\n",
    "    temp = set(lst[0]).intersection(*lst)\n",
    "    return list(temp) \n",
    "\n",
    "nums = [[7,2,3,4,7],[9,2,3,2,5],[8,2,3,4,4]]\n",
    "print(\"Original list:\")\n",
    "print(nums)\n",
    "print(\"\\nCommon elements of the said list of lists:\")\n",
    "print(common_list_of_lists(nums))\n",
    "chars = [['a','b','c'],['b','c','d'],['c','d','e']]\n",
    "print(\"\\nOriginal list:\")\n",
    "print(chars)\n",
    "print(\"\\nCommon elements of the said list of lists:\")\n",
    "print(common_list_of_lists(chars))"
   ]
  },
  {
   "cell_type": "code",
   "execution_count": 27,
   "id": "9152be97",
   "metadata": {},
   "outputs": [
    {
     "name": "stdout",
     "output_type": "stream",
     "text": [
      "Original list:\n",
      "[7, 2, 3, 4, 9, 2, 3]\n",
      "[7, 2, 3, 4, 9, 2, 3]\n",
      "[0.7777777777777778, 0.25, 1.5, 1.3333333333333333, 3.0, 2.0, 1.5]\n"
     ]
    }
   ],
   "source": [
    "# Create a new list dividing two given lists of numbers.\n",
    "\n",
    "def dividing_two_lists(l1,l2):\n",
    "    result = [x/y for x, y in zip(l1,l2)]\n",
    "    return result \n",
    "nums1 = [7,2,3,4,9,2,3]\n",
    "nums2 = [9,8,2,3,3,1,2]\n",
    "print(\"Original list:\")\n",
    "print(nums1)\n",
    "print(nums1)\n",
    "print(dividing_two_lists(nums1, nums2))"
   ]
  },
  {
   "cell_type": "code",
   "execution_count": 28,
   "id": "8ce1180c",
   "metadata": {},
   "outputs": [
    {
     "name": "stdout",
     "output_type": "stream",
     "text": [
      "Original list:\n",
      "[(2, 3), (2, 4), (0, 6), (7, 1)]\n",
      "\n",
      "Maximum value  for each tuple position in the said list of tuples:\n",
      "[7, 6]\n",
      "\n",
      "Minimum value  for each tuple position in the said list of tuples:\n",
      "[0, 1]\n"
     ]
    }
   ],
   "source": [
    "# Find the minimum, maximum value for each tuple position in a given list of tuples.\n",
    "\n",
    "def max_min_list_tuples(nums):\n",
    "    zip(*nums)\n",
    "    result1 = map(max, zip(*nums))\n",
    "    result2 = map(min, zip(*nums))\n",
    "    return list(result1), list(result2)\n",
    "\n",
    "nums = [(2,3),(2,4),(0,6),(7,1)]\n",
    "print(\"Original list:\")\n",
    "print(nums)\n",
    "\n",
    "result = max_min_list_tuples(nums)\n",
    "print(\"\\nMaximum value  for each tuple position in the said list of tuples:\")\n",
    "print(result[0])\n",
    "print(\"\\nMinimum value  for each tuple position in the said list of tuples:\")\n",
    "print(result[1])"
   ]
  },
  {
   "cell_type": "code",
   "execution_count": 29,
   "id": "63c7677d",
   "metadata": {},
   "outputs": [
    {
     "name": "stdout",
     "output_type": "stream",
     "text": [
      "Original lists:\n",
      "['a', 'b', 'c', 'd', 'e', 'f', 'g']\n",
      "\n",
      "Merge items from 2 to 4 in the said List:\n",
      "['a', 'b', 'cd', 'e', 'f', 'g']\n",
      "\n",
      "Merge items from 3 to 7 in the said List:\n",
      "['a', 'b', 'c', 'defg']\n"
     ]
    }
   ],
   "source": [
    "# Merge some list items in given list using index value.\n",
    "\n",
    "def merge_some_chars(lst,merge_from,merge_to):\n",
    "    result = lst\n",
    "    result[merge_from:merge_to] = [''.join(result[merge_from:merge_to])]    \n",
    "    return result    \n",
    "chars = ['a', 'b', 'c', 'd', 'e', 'f', 'g']\n",
    "print(\"Original lists:\")\n",
    "print(chars)\n",
    "merge_from = 2\n",
    "merge_to = 4\n",
    "print(\"\\nMerge items from\",merge_from,\"to\",merge_to,\"in the said List:\")\n",
    "print(merge_some_chars(chars,merge_from,merge_to))\n",
    "chars = ['a', 'b', 'c', 'd', 'e', 'f', 'g']\n",
    "merge_from = 3\n",
    "merge_to = 7\n",
    "print(\"\\nMerge items from\",merge_from,\"to\",merge_to,\"in the said List:\")\n",
    "print(merge_some_chars(chars,merge_from,merge_to))"
   ]
  },
  {
   "cell_type": "code",
   "execution_count": 30,
   "id": "9a306869",
   "metadata": {},
   "outputs": [
    {
     "name": "stdout",
     "output_type": "stream",
     "text": [
      "Original lists:\n",
      "[2, 3, 9, 8, 2, 0, 39, 84, 2, 2, 34, 2, 34, 5, 3, 5]\n",
      "\n",
      "Remove the last 3 elements from the said list:\n",
      "[2, 3, 9, 8, 2, 0, 39, 84, 2, 2, 34, 2, 34]\n",
      "\n",
      "Remove the last 5 elements from the said list:\n",
      "[2, 3, 9, 8, 2, 0, 39, 84, 2, 2, 34]\n",
      "\n",
      "Remove the last 1 element from the said list:\n",
      "[2, 3, 9, 8, 2, 0, 39, 84, 2, 2, 34, 2, 34, 5, 3]\n"
     ]
    }
   ],
   "source": [
    "# Remove the last N number of elements from a given list.\n",
    "\n",
    "def remove_last_n(nums, N):\n",
    "    result = nums[:len(nums)-N]\n",
    "    return result    \n",
    "nums = [2,3,9,8,2,0,39,84,2,2,34,2,34,5,3,5]\n",
    "print(\"Original lists:\")\n",
    "print(nums)\n",
    "N = 3\n",
    "print(\"\\nRemove the last\",N,\"elements from the said list:\")\n",
    "print(remove_last_n(nums, N))\n",
    "N = 5\n",
    "print(\"\\nRemove the last\",N,\"elements from the said list:\")\n",
    "print(remove_last_n(nums, N))\n",
    "N = 1\n",
    "print(\"\\nRemove the last\",N,\"element from the said list:\")\n",
    "print(remove_last_n(nums, N))"
   ]
  },
  {
   "cell_type": "code",
   "execution_count": 31,
   "id": "599711a8",
   "metadata": {},
   "outputs": [
    {
     "name": "stdout",
     "output_type": "stream",
     "text": [
      "Original lists:\n",
      "['0', '1', '2', '3', '4']\n",
      "['red', 'green', 'black', 'blue', 'white']\n",
      "['100', '200', '300', '400', '500']\n",
      "\n",
      "Concatenate element-wise three said lists:\n",
      "['0red100', '1green200', '2black300', '3blue400', '4white500']\n"
     ]
    }
   ],
   "source": [
    "# Concatenate element-wise three given lists.\n",
    "\n",
    "def concatenate_lists(l1,l2,l3):\n",
    "    return [i + j + k for i, j, k in zip(l1, l2, l3)]\n",
    "    \n",
    "l1 = ['0','1','2','3','4'] \n",
    "l2 = ['red','green','black','blue','white']\n",
    "l3 = ['100','200','300','400','500'] \n",
    "\n",
    "print(\"Original lists:\")\n",
    "print(l1)\n",
    "print(l2)\n",
    "print(l3)\n",
    "print(\"\\nConcatenate element-wise three said lists:\")\n",
    "print(concatenate_lists(l1,l2,l3))"
   ]
  },
  {
   "cell_type": "code",
   "execution_count": 32,
   "id": "4b91137d",
   "metadata": {},
   "outputs": [
    {
     "name": "stdout",
     "output_type": "stream",
     "text": [
      "Original list of strings:\n",
      "['Red', 'Maroon', 'Yellow', 'Olive']\n",
      "\n",
      "Convert the said list of strings into list of lists:\n",
      "[['R', 'e', 'd'], ['M', 'a', 'r', 'o', 'o', 'n'], ['Y', 'e', 'l', 'l', 'o', 'w'], ['O', 'l', 'i', 'v', 'e']]\n"
     ]
    }
   ],
   "source": [
    "# Convert a given list of strings into list of lists.\n",
    "\n",
    "def strings_to_listOflists(colors):\n",
    "    result = [list(word) for word in colors]\n",
    "    return result\n",
    "\n",
    "colors = [\"Red\", \"Maroon\", \"Yellow\", \"Olive\"]\n",
    "print('Original list of strings:')\n",
    "print(colors)\n",
    "print(\"\\nConvert the said list of strings into list of lists:\")\n",
    "print(strings_to_listOflists(colors))"
   ]
  },
  {
   "cell_type": "code",
   "execution_count": null,
   "id": "d78a8d78",
   "metadata": {},
   "outputs": [],
   "source": []
  }
 ],
 "metadata": {
  "kernelspec": {
   "display_name": "Python 3 (ipykernel)",
   "language": "python",
   "name": "python3"
  },
  "language_info": {
   "codemirror_mode": {
    "name": "ipython",
    "version": 3
   },
   "file_extension": ".py",
   "mimetype": "text/x-python",
   "name": "python",
   "nbconvert_exporter": "python",
   "pygments_lexer": "ipython3",
   "version": "3.9.13"
  }
 },
 "nbformat": 4,
 "nbformat_minor": 5
}
