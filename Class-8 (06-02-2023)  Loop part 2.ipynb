{
 "cells": [
  {
   "cell_type": "code",
   "execution_count": null,
   "id": "5bd5f45d",
   "metadata": {},
   "outputs": [],
   "source": [
    "\n",
    "# 6. Write a Python program to get a list, sorted in increasing order by the last\n",
    "# element in each tuple from a given list of non-empty tuples. Go to the editor\n",
    "# Sample List : [(2, 5), (1, 2), (4, 4), (2, 3), (2, 1)]\n",
    "# Expected Result : [(2, 1), (1, 2), (2, 3), (4, 4), (2, 5)]"
   ]
  },
  {
   "cell_type": "code",
   "execution_count": 20,
   "id": "5a10a16b",
   "metadata": {},
   "outputs": [
    {
     "name": "stdout",
     "output_type": "stream",
     "text": [
      "All the last value of tuples after sorting [1, 2, 3, 4, 5]\n",
      "value 1\n",
      "5\n",
      "2\n",
      "4\n",
      "3\n",
      "1\n",
      "[(2, 1)]\n",
      "value 2\n",
      "5\n",
      "2\n",
      "[(2, 1), (1, 2)]\n",
      "value 3\n",
      "5\n",
      "2\n",
      "4\n",
      "3\n",
      "[(2, 1), (1, 2), (2, 3)]\n",
      "value 4\n",
      "5\n",
      "2\n",
      "4\n",
      "[(2, 1), (1, 2), (2, 3), (4, 4)]\n",
      "value 5\n",
      "5\n",
      "[(2, 1), (1, 2), (2, 3), (4, 4), (2, 5)]\n"
     ]
    },
    {
     "data": {
      "text/plain": [
       "[(2, 1), (1, 2), (2, 3), (4, 4), (2, 5)]"
      ]
     },
     "execution_count": 20,
     "metadata": {},
     "output_type": "execute_result"
    }
   ],
   "source": [
    "v = [(2, 5), (1, 2), (4, 4), (2, 3), (2, 1)]\n",
    "second_index_value = []\n",
    "for tuples in v:\n",
    "#     print('Tuples are',tuples)\n",
    "#     print('last element of tuple',tuples[1])\n",
    "    second_index_value.append(tuples[1])\n",
    "\n",
    "# print('All the last value of tuples are',second_index_value)\n",
    "second_index_value.sort()\n",
    "print('All the last value of tuples after sorting',second_index_value)\n",
    "\n",
    "\n",
    "\n",
    "final=[]\n",
    "for value in second_index_value:\n",
    "    print('value',value)\n",
    "    for tuples in v:\n",
    "        print(tuples[1])\n",
    "        if tuples[1]==value:\n",
    "            final.append(tuples)\n",
    "            print(final)\n",
    "            break\n",
    "        \n",
    "final"
   ]
  },
  {
   "cell_type": "code",
   "execution_count": 25,
   "id": "82b091e6",
   "metadata": {},
   "outputs": [
    {
     "name": "stdout",
     "output_type": "stream",
     "text": [
      "Hello\n",
      "H\n",
      "e\n",
      "l\n",
      "l\n",
      "o\n",
      "world\n",
      "W\n",
      "o\n",
      "r\n",
      "l\n",
      "d\n"
     ]
    }
   ],
   "source": [
    "s = 'Hello world'\n",
    "\n",
    "for word in s.split():\n",
    "    print(word)\n",
    "    print(word[0].upper())\n",
    "    for char in word[1:]:\n",
    "        print(char)\n",
    "    \n",
    "    "
   ]
  },
  {
   "cell_type": "code",
   "execution_count": 23,
   "id": "ea7f66f9",
   "metadata": {},
   "outputs": [
    {
     "name": "stdout",
     "output_type": "stream",
     "text": [
      "H\n",
      "e\n",
      "l\n",
      "l\n",
      "o\n",
      " \n",
      "w\n",
      "o\n",
      "r\n",
      "l\n",
      "d\n"
     ]
    }
   ],
   "source": [
    "s = 'Hello world'\n",
    "\n",
    "for word in s:\n",
    "    print(word)\n",
    "   "
   ]
  },
  {
   "cell_type": "code",
   "execution_count": 42,
   "id": "cb00536f",
   "metadata": {},
   "outputs": [
    {
     "name": "stdout",
     "output_type": "stream",
     "text": [
      "1 1\n",
      "1 2\n",
      "1 3\n",
      "1 4\n",
      "1 5\n",
      "2 1\n",
      "2 2\n",
      "2 3\n",
      "2 4\n",
      "2 5\n",
      "3 1\n",
      "3 2\n",
      "3 3\n",
      "3 4\n",
      "3 5\n",
      "4 1\n",
      "4 2\n",
      "4 3\n",
      "4 4\n",
      "4 5\n",
      "5 1\n",
      "5 2\n",
      "5 3\n",
      "5 4\n",
      "5 5\n"
     ]
    }
   ],
   "source": [
    "\n",
    "for i in range(1,6):\n",
    "    for j in range(1,6):\n",
    "        print(i,j)"
   ]
  },
  {
   "cell_type": "code",
   "execution_count": 31,
   "id": "0edf8d01",
   "metadata": {},
   "outputs": [
    {
     "data": {
      "text/plain": [
       "'11'"
      ]
     },
     "execution_count": 31,
     "metadata": {},
     "output_type": "execute_result"
    }
   ],
   "source": [
    "1\n",
    "12\n",
    "123\n",
    "1234\n",
    "12345"
   ]
  },
  {
   "cell_type": "code",
   "execution_count": 71,
   "id": "9e1d86be",
   "metadata": {},
   "outputs": [
    {
     "name": "stdout",
     "output_type": "stream",
     "text": [
      "[1]\n",
      "[1, 2]\n",
      "[1, 2, 3]\n",
      "[1, 2, 3, 4]\n",
      "[1, 2, 3, 4, 5]\n"
     ]
    }
   ],
   "source": [
    "for i in range(1,6):\n",
    "    for j in range(i+1,0,-2):\n",
    "        print(list(range(1,j)))\n",
    "        break\n"
   ]
  },
  {
   "cell_type": "code",
   "execution_count": 80,
   "id": "2d29ba91",
   "metadata": {},
   "outputs": [
    {
     "name": "stdout",
     "output_type": "stream",
     "text": [
      "1\n",
      "12\n",
      "123\n",
      "1234\n",
      "12345\n"
     ]
    }
   ],
   "source": [
    "for i in range(1, 6):\n",
    "    for j in range(1, i+1):\n",
    "        print(j, end='')\n",
    "    print()"
   ]
  },
  {
   "cell_type": "code",
   "execution_count": 82,
   "id": "fd941fd3",
   "metadata": {},
   "outputs": [
    {
     "name": "stdout",
     "output_type": "stream",
     "text": [
      "0123"
     ]
    }
   ],
   "source": [
    "for j in range(0,4):\n",
    "    print(j,end = '')"
   ]
  },
  {
   "cell_type": "code",
   "execution_count": 83,
   "id": "628ad448",
   "metadata": {},
   "outputs": [
    {
     "name": "stdout",
     "output_type": "stream",
     "text": [
      "0\n",
      "1\n",
      "2\n",
      "3\n"
     ]
    }
   ],
   "source": [
    "for j in range(0,4):\n",
    "    print(j)"
   ]
  },
  {
   "cell_type": "code",
   "execution_count": 84,
   "id": "284a375a",
   "metadata": {},
   "outputs": [
    {
     "name": "stdout",
     "output_type": "stream",
     "text": [
      "0\n",
      "1\n",
      "2\n",
      "3\n",
      "4\n"
     ]
    }
   ],
   "source": [
    "for i in range(0,5):\n",
    "    print(i)"
   ]
  },
  {
   "cell_type": "code",
   "execution_count": 90,
   "id": "2901b6de",
   "metadata": {},
   "outputs": [
    {
     "name": "stdout",
     "output_type": "stream",
     "text": [
      "6\n",
      "2\n",
      "7\n"
     ]
    }
   ],
   "source": [
    "list1 = [6,8,2,5,7]\n",
    "\n",
    "\n",
    "i=0\n",
    "while(i<len(list1)):\n",
    "    if i%2!=0:\n",
    "        print(list1[i])\n",
    "    i = i+1"
   ]
  },
  {
   "cell_type": "code",
   "execution_count": null,
   "id": "865d1ec4",
   "metadata": {},
   "outputs": [],
   "source": [
    "# find prime number\n",
    "\n"
   ]
  }
 ],
 "metadata": {
  "kernelspec": {
   "display_name": "Python 3 (ipykernel)",
   "language": "python",
   "name": "python3"
  },
  "language_info": {
   "codemirror_mode": {
    "name": "ipython",
    "version": 3
   },
   "file_extension": ".py",
   "mimetype": "text/x-python",
   "name": "python",
   "nbconvert_exporter": "python",
   "pygments_lexer": "ipython3",
   "version": "3.9.12"
  }
 },
 "nbformat": 4,
 "nbformat_minor": 5
}
