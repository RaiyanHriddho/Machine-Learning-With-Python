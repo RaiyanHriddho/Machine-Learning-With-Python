{
 "cells": [
  {
   "cell_type": "code",
   "execution_count": 148,
   "id": "db57f384",
   "metadata": {},
   "outputs": [
    {
     "data": {
      "text/plain": [
       "3"
      ]
     },
     "execution_count": 148,
     "metadata": {},
     "output_type": "execute_result"
    }
   ],
   "source": [
    "# dic1 = {key:volume}\n",
    "\n",
    "dict1 = {1:'A', 2:'B', 3:'C'}\n",
    "len(dict1)"
   ]
  },
  {
   "cell_type": "code",
   "execution_count": 3,
   "id": "ea56f4d8",
   "metadata": {},
   "outputs": [
    {
     "data": {
      "text/plain": [
       "'C'"
      ]
     },
     "execution_count": 3,
     "metadata": {},
     "output_type": "execute_result"
    }
   ],
   "source": [
    "dict1[3]"
   ]
  },
  {
   "cell_type": "code",
   "execution_count": 4,
   "id": "c6340951",
   "metadata": {},
   "outputs": [
    {
     "data": {
      "text/plain": [
       "'B'"
      ]
     },
     "execution_count": 4,
     "metadata": {},
     "output_type": "execute_result"
    }
   ],
   "source": [
    "dict1[2]"
   ]
  },
  {
   "cell_type": "code",
   "execution_count": 5,
   "id": "abb45654",
   "metadata": {},
   "outputs": [],
   "source": [
    "Classroom = {'A':56, 'B':84, 'C':97, 'D':56, 'E':100, 'F':81}"
   ]
  },
  {
   "cell_type": "code",
   "execution_count": 6,
   "id": "4e562b51",
   "metadata": {},
   "outputs": [
    {
     "data": {
      "text/plain": [
       "{'A': 56, 'B': 84, 'C': 97, 'D': 56, 'E': 100, 'F': 81}"
      ]
     },
     "execution_count": 6,
     "metadata": {},
     "output_type": "execute_result"
    }
   ],
   "source": [
    "Classroom"
   ]
  },
  {
   "cell_type": "code",
   "execution_count": 7,
   "id": "a1ae7c5c",
   "metadata": {},
   "outputs": [
    {
     "data": {
      "text/plain": [
       "97"
      ]
     },
     "execution_count": 7,
     "metadata": {},
     "output_type": "execute_result"
    }
   ],
   "source": [
    "Classroom['C']"
   ]
  },
  {
   "cell_type": "code",
   "execution_count": 9,
   "id": "80c33ff6",
   "metadata": {},
   "outputs": [
    {
     "data": {
      "text/plain": [
       "[['A', 56], ['B', 84], ['C', 97], ['D', 56], ['E', 100], ['F', 81]]"
      ]
     },
     "execution_count": 9,
     "metadata": {},
     "output_type": "execute_result"
    }
   ],
   "source": [
    "Classroom_LIST = [['A',56], ['B',84], ['C',97], ['D',56], ['E',100], ['F',81]]\n",
    "Classroom_LIST"
   ]
  },
  {
   "cell_type": "code",
   "execution_count": 12,
   "id": "4c726cb7",
   "metadata": {},
   "outputs": [
    {
     "name": "stderr",
     "output_type": "stream",
     "text": [
      "<>:1: SyntaxWarning: 'int' object is not subscriptable; perhaps you missed a comma?\n",
      "<>:1: SyntaxWarning: 'int' object is not subscriptable; perhaps you missed a comma?\n",
      "C:\\Users\\88017\\AppData\\Local\\Temp\\ipykernel_8656\\3413526001.py:1: SyntaxWarning: 'int' object is not subscriptable; perhaps you missed a comma?\n",
      "  Classroom = {'A':5['P','C','M'], 'B':84, 'C':97, 'D':56, 'E':100, 'F':81}\n"
     ]
    },
    {
     "ename": "TypeError",
     "evalue": "'int' object is not subscriptable",
     "output_type": "error",
     "traceback": [
      "\u001b[1;31m---------------------------------------------------------------------------\u001b[0m",
      "\u001b[1;31mTypeError\u001b[0m                                 Traceback (most recent call last)",
      "\u001b[1;32m~\\AppData\\Local\\Temp\\ipykernel_8656\\3413526001.py\u001b[0m in \u001b[0;36m<module>\u001b[1;34m\u001b[0m\n\u001b[1;32m----> 1\u001b[1;33m \u001b[0mClassroom\u001b[0m \u001b[1;33m=\u001b[0m \u001b[1;33m{\u001b[0m\u001b[1;34m'A'\u001b[0m\u001b[1;33m:\u001b[0m\u001b[1;36m5\u001b[0m\u001b[1;33m[\u001b[0m\u001b[1;34m'P'\u001b[0m\u001b[1;33m,\u001b[0m\u001b[1;34m'C'\u001b[0m\u001b[1;33m,\u001b[0m\u001b[1;34m'M'\u001b[0m\u001b[1;33m]\u001b[0m\u001b[1;33m,\u001b[0m \u001b[1;34m'B'\u001b[0m\u001b[1;33m:\u001b[0m\u001b[1;36m84\u001b[0m\u001b[1;33m,\u001b[0m \u001b[1;34m'C'\u001b[0m\u001b[1;33m:\u001b[0m\u001b[1;36m97\u001b[0m\u001b[1;33m,\u001b[0m \u001b[1;34m'D'\u001b[0m\u001b[1;33m:\u001b[0m\u001b[1;36m56\u001b[0m\u001b[1;33m,\u001b[0m \u001b[1;34m'E'\u001b[0m\u001b[1;33m:\u001b[0m\u001b[1;36m100\u001b[0m\u001b[1;33m,\u001b[0m \u001b[1;34m'F'\u001b[0m\u001b[1;33m:\u001b[0m\u001b[1;36m81\u001b[0m\u001b[1;33m}\u001b[0m\u001b[1;33m\u001b[0m\u001b[1;33m\u001b[0m\u001b[0m\n\u001b[0m",
      "\u001b[1;31mTypeError\u001b[0m: 'int' object is not subscriptable"
     ]
    }
   ],
   "source": [
    "Classroom = {'A':5['P','C','M'], 'B':84, 'C':97, 'D':56, 'E':100, 'F':81}"
   ]
  },
  {
   "cell_type": "code",
   "execution_count": 11,
   "id": "c5e6b93a",
   "metadata": {},
   "outputs": [
    {
     "data": {
      "text/plain": [
       "{'A': 56, 'B': 84, 'C': 97, 'D': 56, 'E': 100, 'F': 81}"
      ]
     },
     "execution_count": 11,
     "metadata": {},
     "output_type": "execute_result"
    }
   ],
   "source": [
    "Classroom"
   ]
  },
  {
   "cell_type": "code",
   "execution_count": 15,
   "id": "faa55159",
   "metadata": {},
   "outputs": [],
   "source": [
    "Classroom = {'A1':['P','C','M'], 'B':84, 'C':97, 'D':56, 'E':100, 'F':81, 'A2': 63}"
   ]
  },
  {
   "cell_type": "code",
   "execution_count": 16,
   "id": "6194187f",
   "metadata": {},
   "outputs": [
    {
     "data": {
      "text/plain": [
       "{'A1': ['P', 'C', 'M'], 'B': 84, 'C': 97, 'D': 56, 'E': 100, 'F': 81, 'A2': 63}"
      ]
     },
     "execution_count": 16,
     "metadata": {},
     "output_type": "execute_result"
    }
   ],
   "source": [
    "Classroom"
   ]
  },
  {
   "cell_type": "code",
   "execution_count": 18,
   "id": "2646fa16",
   "metadata": {},
   "outputs": [],
   "source": [
    "Classroom = {'A1':{'P':76,'C':97,'M':95}, 'B':84, 'C':97, 'D':56, 'E':100, 'F':81, 'A2': 63}"
   ]
  },
  {
   "cell_type": "code",
   "execution_count": 19,
   "id": "10be440d",
   "metadata": {},
   "outputs": [
    {
     "data": {
      "text/plain": [
       "{'A1': {'P': 76, 'C': 97, 'M': 95},\n",
       " 'B': 84,\n",
       " 'C': 97,\n",
       " 'D': 56,\n",
       " 'E': 100,\n",
       " 'F': 81,\n",
       " 'A2': 63}"
      ]
     },
     "execution_count": 19,
     "metadata": {},
     "output_type": "execute_result"
    }
   ],
   "source": [
    "Classroom"
   ]
  },
  {
   "cell_type": "code",
   "execution_count": 20,
   "id": "eb1de7c3",
   "metadata": {},
   "outputs": [
    {
     "data": {
      "text/plain": [
       "dict_items([('A1', 95), ('B', 84), ('C', 97), ('D', 56), ('E', 100), ('F', 81), ('A2', 63)])"
      ]
     },
     "execution_count": 20,
     "metadata": {},
     "output_type": "execute_result"
    }
   ],
   "source": [
    "Classroom = {'A1':95, 'B':84, 'C':97, 'D':56, 'E':100, 'F':81, 'A2': 63}\n",
    "\n",
    "Classroom.items()"
   ]
  },
  {
   "cell_type": "code",
   "execution_count": 26,
   "id": "59a4b0a8",
   "metadata": {},
   "outputs": [
    {
     "data": {
      "text/plain": [
       "dict_values([95, 84, 97, 56, 100, 81, 63])"
      ]
     },
     "execution_count": 26,
     "metadata": {},
     "output_type": "execute_result"
    }
   ],
   "source": [
    "Classroom = {'A1':95, 'B':84, 'C':97, 'D':56, 'E':100, 'F':81, 'A2': 63}\n",
    "\n",
    "Classroom.values()"
   ]
  },
  {
   "cell_type": "code",
   "execution_count": 54,
   "id": "6243ab3f",
   "metadata": {},
   "outputs": [
    {
     "data": {
      "text/plain": [
       "array([1, 0, 1, 0, 1, 0, 0])"
      ]
     },
     "execution_count": 54,
     "metadata": {},
     "output_type": "execute_result"
    }
   ],
   "source": [
    "Classroom = {'A1':95, 'B':84, 'C':97, 'D':56, 'E':100, 'F':81, 'A2': 63}\n",
    "import numpy as np\n",
    "a = np.array(list(Classroom.values()))\n",
    "np.where(a >90, 1, 0)"
   ]
  },
  {
   "cell_type": "code",
   "execution_count": 48,
   "id": "f5d287ed",
   "metadata": {},
   "outputs": [
    {
     "data": {
      "text/plain": [
       "array([1, 0, 1, 1, 1, 0, 1])"
      ]
     },
     "execution_count": 48,
     "metadata": {},
     "output_type": "execute_result"
    }
   ],
   "source": [
    "Classroom = {'A1':95, 'B':84, 'C':97, 'D':99, 'E':100, 'F':81, 'A2': 96}\n",
    "import numpy as np\n",
    "a = np.array(list(Classroom.values()))\n",
    "np.where(a >90, 1, 0)"
   ]
  },
  {
   "cell_type": "code",
   "execution_count": 49,
   "id": "275912b8",
   "metadata": {},
   "outputs": [
    {
     "name": "stdout",
     "output_type": "stream",
     "text": [
      "A1\n",
      "C\n",
      "D\n",
      "E\n",
      "A2\n"
     ]
    }
   ],
   "source": [
    "for i in a:\n",
    "    if i>90:\n",
    "        for j in Classroom:\n",
    "            if Classroom[j]== i:\n",
    "                print(j)"
   ]
  },
  {
   "cell_type": "code",
   "execution_count": 35,
   "id": "dcd893a0",
   "metadata": {},
   "outputs": [
    {
     "name": "stdout",
     "output_type": "stream",
     "text": [
      "A1\n",
      "C\n",
      "D\n",
      "E\n",
      "A2\n"
     ]
    }
   ],
   "source": [
    "for i in a:\n",
    "    if i>90:\n",
    "        for j in Classroom:\n",
    "            if Classroom[j]== i:\n",
    "                print(j)\n",
    "                break"
   ]
  },
  {
   "cell_type": "code",
   "execution_count": 36,
   "id": "6c215525",
   "metadata": {},
   "outputs": [
    {
     "data": {
      "text/plain": [
       "array([1, 0, 1, 1, 1, 0, 1])"
      ]
     },
     "execution_count": 36,
     "metadata": {},
     "output_type": "execute_result"
    }
   ],
   "source": [
    "a = np.where(a >90, 1, 0)\n",
    "a"
   ]
  },
  {
   "cell_type": "code",
   "execution_count": 55,
   "id": "7c1ea994",
   "metadata": {},
   "outputs": [
    {
     "name": "stdout",
     "output_type": "stream",
     "text": [
      "[]\n",
      "[0, 1, 2, 3, 4, 5, 6, 7, 8, 9, 10, 11]\n",
      "[1, 2, 3, 4, 5, 6, 7, 8, 9, 10, 11, 12, 13, 14]\n"
     ]
    }
   ],
   "source": [
    "# empty range\n",
    "print(list(range(0)))\n",
    "\n",
    "# using range(stop)\n",
    "print(list(range(12)))\n",
    "\n",
    "# using range(start, stop)\n",
    "print(list(range(1, 15)))"
   ]
  },
  {
   "cell_type": "code",
   "execution_count": 56,
   "id": "2bc0332a",
   "metadata": {},
   "outputs": [
    {
     "name": "stdout",
     "output_type": "stream",
     "text": [
      "A1\n",
      "C\n",
      "E\n"
     ]
    }
   ],
   "source": [
    "a=np.where(a >90, 1, 0)\n",
    "a=list(a)\n",
    "for i in range(len(a)):\n",
    "    if a[i]==1:\n",
    "        print(list(Classroom.keys())[i])"
   ]
  },
  {
   "cell_type": "code",
   "execution_count": 57,
   "id": "6b50092f",
   "metadata": {},
   "outputs": [],
   "source": [
    "Classroom = {'A1':{'P':76,'C':97,'M':95}, \n",
    "             'B':{'P':53,'C':99,'M':34}, \n",
    "             'C':{'P':67,'C':94,'M':41}, \n",
    "             'D':{'P':12,'C':97,'M':78},\n",
    "             'E':{'P':96,'C':52,'M':90}, \n",
    "             'F':{'P':71,'C':23,'M':99}, \n",
    "             'A2':{'P':45,'C':52,'M':97}}"
   ]
  },
  {
   "cell_type": "code",
   "execution_count": 58,
   "id": "1922dfe1",
   "metadata": {},
   "outputs": [
    {
     "data": {
      "text/plain": [
       "{'P': 76, 'C': 97, 'M': 95}"
      ]
     },
     "execution_count": 58,
     "metadata": {},
     "output_type": "execute_result"
    }
   ],
   "source": [
    "Classroom['A1']"
   ]
  },
  {
   "cell_type": "code",
   "execution_count": 59,
   "id": "635583c4",
   "metadata": {},
   "outputs": [
    {
     "data": {
      "text/plain": [
       "97"
      ]
     },
     "execution_count": 59,
     "metadata": {},
     "output_type": "execute_result"
    }
   ],
   "source": [
    "Classroom['A1']['C']"
   ]
  },
  {
   "cell_type": "code",
   "execution_count": 70,
   "id": "16294603",
   "metadata": {},
   "outputs": [
    {
     "data": {
      "text/plain": [
       "99"
      ]
     },
     "execution_count": 70,
     "metadata": {},
     "output_type": "execute_result"
    }
   ],
   "source": [
    "Classroom['F']['M']"
   ]
  },
  {
   "cell_type": "code",
   "execution_count": 73,
   "id": "36079cd1",
   "metadata": {},
   "outputs": [],
   "source": [
    "def find_students(marks):\n",
    "    students = []\n",
    "    for student, mark in marks.items():\n",
    "        if mark > 90:\n",
    "            students.append(student)\n",
    "            return students\n",
    "        \n",
    "        #sample data\n",
    "        \n",
    "        marks = {\n",
    "            \"student1\": 97,\n",
    "            \"student2\": 64,\n",
    "            \"student3\": 92,\n",
    "            \"student4\": 26\n",
    "            \n",
    "        }\n",
    "        \n",
    "        print(\"Students with marks greater than 90:\", find_students(marks))"
   ]
  },
  {
   "cell_type": "code",
   "execution_count": 74,
   "id": "c6626ccb",
   "metadata": {},
   "outputs": [
    {
     "data": {
      "text/plain": [
       "78"
      ]
     },
     "execution_count": 74,
     "metadata": {},
     "output_type": "execute_result"
    }
   ],
   "source": [
    "Classroom['D']['M']"
   ]
  },
  {
   "cell_type": "code",
   "execution_count": 75,
   "id": "266f224a",
   "metadata": {},
   "outputs": [
    {
     "data": {
      "text/plain": [
       "{'A1': {'P': 76, 'C': 97, 'M': 95},\n",
       " 'B': {'P': 53, 'C': 99, 'M': 34},\n",
       " 'C': {'P': 67, 'C': 94, 'M': 41},\n",
       " 'D': {'P': 12, 'C': 97, 'M': 78},\n",
       " 'E': {'P': 96, 'C': 52, 'M': 90},\n",
       " 'F': {'P': 71, 'C': 23, 'M': 99},\n",
       " 'A2': {'P': 45, 'C': 52, 'M': 97}}"
      ]
     },
     "execution_count": 75,
     "metadata": {},
     "output_type": "execute_result"
    }
   ],
   "source": [
    "Classroom"
   ]
  },
  {
   "cell_type": "code",
   "execution_count": 76,
   "id": "e16b500f",
   "metadata": {},
   "outputs": [
    {
     "data": {
      "text/plain": [
       "dict_keys(['A1', 'B', 'C', 'D', 'E', 'F', 'A2'])"
      ]
     },
     "execution_count": 76,
     "metadata": {},
     "output_type": "execute_result"
    }
   ],
   "source": [
    "Classroom.keys()"
   ]
  },
  {
   "cell_type": "code",
   "execution_count": 77,
   "id": "c17ffc6d",
   "metadata": {},
   "outputs": [
    {
     "data": {
      "text/plain": [
       "dict_values([{'P': 76, 'C': 97, 'M': 95}, {'P': 53, 'C': 99, 'M': 34}, {'P': 67, 'C': 94, 'M': 41}, {'P': 12, 'C': 97, 'M': 78}, {'P': 96, 'C': 52, 'M': 90}, {'P': 71, 'C': 23, 'M': 99}, {'P': 45, 'C': 52, 'M': 97}])"
      ]
     },
     "execution_count": 77,
     "metadata": {},
     "output_type": "execute_result"
    }
   ],
   "source": [
    "Classroom.values()"
   ]
  },
  {
   "cell_type": "code",
   "execution_count": 78,
   "id": "99df8fe8",
   "metadata": {},
   "outputs": [
    {
     "data": {
      "text/plain": [
       "dict_keys(['P', 'C', 'M'])"
      ]
     },
     "execution_count": 78,
     "metadata": {},
     "output_type": "execute_result"
    }
   ],
   "source": [
    "Classroom['A1'].keys()"
   ]
  },
  {
   "cell_type": "code",
   "execution_count": 79,
   "id": "86b53e60",
   "metadata": {},
   "outputs": [
    {
     "data": {
      "text/plain": [
       "dict_values([67, 94, 41])"
      ]
     },
     "execution_count": 79,
     "metadata": {},
     "output_type": "execute_result"
    }
   ],
   "source": [
    "Classroom['C'].values()"
   ]
  },
  {
   "cell_type": "code",
   "execution_count": 80,
   "id": "3bfbdf85",
   "metadata": {},
   "outputs": [
    {
     "data": {
      "text/plain": [
       "dict_items([('P', 76), ('C', 97), ('M', 95)])"
      ]
     },
     "execution_count": 80,
     "metadata": {},
     "output_type": "execute_result"
    }
   ],
   "source": [
    "Classroom['A1'].items()"
   ]
  },
  {
   "cell_type": "code",
   "execution_count": 81,
   "id": "1c4b294d",
   "metadata": {},
   "outputs": [],
   "source": [
    "Classroom = {'A1':{'P':76,'C':97,'M':95}, \n",
    "             'B':{'P':53,'C':99,'M':34}, \n",
    "             'C':{'P':67,'C':94,'M':41}, \n",
    "             'D':{'P':12,'C':97,'M':78},\n",
    "             'E':{'P':96,'C':52,'M':90}, \n",
    "             'F':{'P':71,'C':23,'M':99}, \n",
    "             'A2':['P','C','M']}"
   ]
  },
  {
   "cell_type": "code",
   "execution_count": 82,
   "id": "14b0b92b",
   "metadata": {},
   "outputs": [
    {
     "data": {
      "text/plain": [
       "{'A1': {'P': 76, 'C': 97, 'M': 95},\n",
       " 'B': {'P': 53, 'C': 99, 'M': 34},\n",
       " 'C': {'P': 67, 'C': 94, 'M': 41},\n",
       " 'D': {'P': 12, 'C': 97, 'M': 78},\n",
       " 'E': {'P': 96, 'C': 52, 'M': 90},\n",
       " 'F': {'P': 71, 'C': 23, 'M': 99},\n",
       " 'A2': ['P', 'C', 'M']}"
      ]
     },
     "execution_count": 82,
     "metadata": {},
     "output_type": "execute_result"
    }
   ],
   "source": [
    "Classroom"
   ]
  },
  {
   "cell_type": "code",
   "execution_count": 83,
   "id": "c12f15b9",
   "metadata": {},
   "outputs": [
    {
     "data": {
      "text/plain": [
       "['P', 'C', 'M']"
      ]
     },
     "execution_count": 83,
     "metadata": {},
     "output_type": "execute_result"
    }
   ],
   "source": [
    "Classroom['A2']"
   ]
  },
  {
   "cell_type": "code",
   "execution_count": 84,
   "id": "8c83495a",
   "metadata": {},
   "outputs": [
    {
     "data": {
      "text/plain": [
       "'P'"
      ]
     },
     "execution_count": 84,
     "metadata": {},
     "output_type": "execute_result"
    }
   ],
   "source": [
    "Classroom['A2'][0]"
   ]
  },
  {
   "cell_type": "code",
   "execution_count": 85,
   "id": "e4f6b8d3",
   "metadata": {},
   "outputs": [],
   "source": [
    "Classroom = {'A1':{'P':76,'C':97,'M':95}, \n",
    "             'B':{'P':53,'C':99,'M':34}, \n",
    "             'C':{'P':67,'C':94,'M':41}, \n",
    "             'D':{'P':12,'C':97,'M':78},\n",
    "             'E':{'P':96,'C':52,'M':90}, \n",
    "             'F':{'P':71,'C':23,'M':99}, \n",
    "             'A2':['P','C','M']}"
   ]
  },
  {
   "cell_type": "code",
   "execution_count": 86,
   "id": "fb52339c",
   "metadata": {},
   "outputs": [],
   "source": [
    "del Classroom['C']"
   ]
  },
  {
   "cell_type": "code",
   "execution_count": 87,
   "id": "08d1cd2b",
   "metadata": {},
   "outputs": [
    {
     "data": {
      "text/plain": [
       "{'A1': {'P': 76, 'C': 97, 'M': 95},\n",
       " 'B': {'P': 53, 'C': 99, 'M': 34},\n",
       " 'D': {'P': 12, 'C': 97, 'M': 78},\n",
       " 'E': {'P': 96, 'C': 52, 'M': 90},\n",
       " 'F': {'P': 71, 'C': 23, 'M': 99},\n",
       " 'A2': ['P', 'C', 'M']}"
      ]
     },
     "execution_count": 87,
     "metadata": {},
     "output_type": "execute_result"
    }
   ],
   "source": [
    "Classroom"
   ]
  },
  {
   "cell_type": "code",
   "execution_count": 88,
   "id": "dc32d103",
   "metadata": {},
   "outputs": [],
   "source": [
    "Classroom['New']=89"
   ]
  },
  {
   "cell_type": "code",
   "execution_count": 92,
   "id": "8903136f",
   "metadata": {},
   "outputs": [
    {
     "data": {
      "text/plain": [
       "{'A1': {'P': 76, 'C': 97, 'M': 95},\n",
       " 'B': {'P': 53, 'C': 99, 'M': 34},\n",
       " 'D': {'P': 12, 'C': 97, 'M': 78},\n",
       " 'E': {'P': 96, 'C': 52, 'M': 90},\n",
       " 'F': {'P': 71, 'C': 23, 'M': 99},\n",
       " 'A2': ['P', 'C', 'M'],\n",
       " 'New': 89}"
      ]
     },
     "execution_count": 92,
     "metadata": {},
     "output_type": "execute_result"
    }
   ],
   "source": [
    "Classroom"
   ]
  },
  {
   "cell_type": "code",
   "execution_count": 91,
   "id": "1cf0762b",
   "metadata": {},
   "outputs": [
    {
     "data": {
      "text/plain": [
       "{'A1': {'P': 76, 'C': 97, 'M': 95},\n",
       " 'B': {'P': 53, 'C': 99, 'M': 34},\n",
       " 'D': {'P': 12, 'C': 97, 'M': 78},\n",
       " 'E': {'P': 96, 'C': 52, 'M': 90},\n",
       " 'F': {'P': 71, 'C': 23, 'M': 99},\n",
       " 'A2': ['P', 'C', 'M'],\n",
       " 'New': 89}"
      ]
     },
     "execution_count": 91,
     "metadata": {},
     "output_type": "execute_result"
    }
   ],
   "source": [
    "Classroom.update(marks)"
   ]
  },
  {
   "cell_type": "code",
   "execution_count": 127,
   "id": "d432bf8f",
   "metadata": {},
   "outputs": [
    {
     "data": {
      "text/plain": [
       "{'A1': {'P': 76, 'C': 97, 'M': 95},\n",
       " 'B': {'P': 53, 'C': 99},\n",
       " 'C': {'P': 67, 'C': 94, 'M': 41},\n",
       " 'D': {'P': 12, 'C': 97, 'M': 78},\n",
       " 'E': {'C': 52, 'M': 90},\n",
       " 'F': {'P': 71, 'C': 23, 'M': 99},\n",
       " 'A2': ['P', 'C', 'M']}"
      ]
     },
     "execution_count": 127,
     "metadata": {},
     "output_type": "execute_result"
    }
   ],
   "source": [
    "Classroom"
   ]
  },
  {
   "cell_type": "markdown",
   "id": "345d28a7",
   "metadata": {},
   "source": [
    "# crops list\n",
    "crops = ['corn', 'wheat', 'cotton']\n",
    "\n",
    "# Add 'cane' to the list\n",
    "crops.append('cane')\n",
    "\n",
    "print('Updated crops list: ', crops)"
   ]
  },
  {
   "cell_type": "code",
   "execution_count": 95,
   "id": "a1396654",
   "metadata": {},
   "outputs": [
    {
     "name": "stdout",
     "output_type": "stream",
     "text": [
      "List after extend(): [2, 4, 8, 100, 400]\n"
     ]
    }
   ],
   "source": [
    "# create a list\n",
    "even_numbers = [2, 4, 8]\n",
    "\n",
    "# create another list\n",
    "more_even_numers = [100, 400]\n",
    "\n",
    "# add all elements of even_numbers to more_even_numbers\n",
    "even_numbers.extend(more_even_numers)\n",
    "\n",
    "\n",
    "print('List after extend():', even_numbers)"
   ]
  },
  {
   "cell_type": "code",
   "execution_count": 106,
   "id": "6bc62632",
   "metadata": {},
   "outputs": [],
   "source": [
    "Classroom = {'A1':{'P':76,'C':97,'M':95}, \n",
    "             'B':{'P':53,'C':99,'M':34}, \n",
    "             'C':{'P':67,'C':94,'M':41}, \n",
    "             'D':{'P':12,'C':97,'M':78},\n",
    "             'E':{'P':96,'C':52,'M':90}, \n",
    "             'F':{'P':71,'C':23,'M':99}, \n",
    "             'A2':['P','C','M']}"
   ]
  },
  {
   "cell_type": "code",
   "execution_count": 107,
   "id": "abb7377a",
   "metadata": {},
   "outputs": [
    {
     "data": {
      "text/plain": [
       "{'A1': {'P': 76, 'C': 97, 'M': 95},\n",
       " 'B': {'P': 53, 'C': 99, 'M': 34},\n",
       " 'C': {'P': 67, 'C': 94, 'M': 41},\n",
       " 'D': {'P': 12, 'C': 97, 'M': 78},\n",
       " 'E': {'P': 96, 'C': 52, 'M': 90},\n",
       " 'F': {'P': 71, 'C': 23, 'M': 99},\n",
       " 'A2': ['P', 'C', 'M']}"
      ]
     },
     "execution_count": 107,
     "metadata": {},
     "output_type": "execute_result"
    }
   ],
   "source": [
    "Classroom"
   ]
  },
  {
   "cell_type": "code",
   "execution_count": 108,
   "id": "1a78380e",
   "metadata": {},
   "outputs": [],
   "source": [
    "del Classroom['E']['P']"
   ]
  },
  {
   "cell_type": "code",
   "execution_count": 117,
   "id": "fe443b8d",
   "metadata": {},
   "outputs": [
    {
     "data": {
      "text/plain": [
       "{'A1': {'P': 76, 'C': 97, 'M': 95},\n",
       " 'B': {'P': 53, 'C': 99, 'M': 34},\n",
       " 'C': {'P': 67, 'C': 94, 'M': 41},\n",
       " 'D': {'P': 12, 'C': 97, 'M': 78},\n",
       " 'E': {'C': 52, 'M': 90},\n",
       " 'F': {'P': 71, 'C': 23, 'M': 99},\n",
       " 'A2': ['P', 'C', 'M']}"
      ]
     },
     "execution_count": 117,
     "metadata": {},
     "output_type": "execute_result"
    }
   ],
   "source": [
    "Classroom"
   ]
  },
  {
   "cell_type": "code",
   "execution_count": 118,
   "id": "df11c06b",
   "metadata": {},
   "outputs": [],
   "source": [
    "del Classroom['B']['M']"
   ]
  },
  {
   "cell_type": "code",
   "execution_count": 122,
   "id": "1a7c36c7",
   "metadata": {},
   "outputs": [
    {
     "data": {
      "text/plain": [
       "{'A1': {'P': 76, 'C': 97, 'M': 95},\n",
       " 'B': {'P': 53, 'C': 99},\n",
       " 'C': {'P': 67, 'C': 94, 'M': 41},\n",
       " 'D': {'P': 12, 'C': 97, 'M': 78},\n",
       " 'E': {'C': 52, 'M': 90},\n",
       " 'F': {'P': 71, 'C': 23, 'M': 99},\n",
       " 'A2': ['P', 'C', 'M']}"
      ]
     },
     "execution_count": 122,
     "metadata": {},
     "output_type": "execute_result"
    }
   ],
   "source": [
    "Classroom"
   ]
  },
  {
   "cell_type": "code",
   "execution_count": 124,
   "id": "415827d4",
   "metadata": {},
   "outputs": [
    {
     "data": {
      "text/plain": [
       "{'A1': {'P': 76, 'C': 97, 'M': 95},\n",
       " 'B': {'P': 53, 'C': 99},\n",
       " 'C': {'P': 67, 'C': 94, 'M': 41},\n",
       " 'D': {'P': 12, 'C': 97, 'M': 78},\n",
       " 'E': {'C': 52, 'M': 90},\n",
       " 'F': {'P': 71, 'C': 23, 'M': 99},\n",
       " 'A2': ['P', 'C', 'M']}"
      ]
     },
     "execution_count": 124,
     "metadata": {},
     "output_type": "execute_result"
    }
   ],
   "source": [
    "Classroom"
   ]
  },
  {
   "cell_type": "code",
   "execution_count": 135,
   "id": "41cc6c96",
   "metadata": {},
   "outputs": [
    {
     "name": "stdout",
     "output_type": "stream",
     "text": [
      "b is greater\n",
      "b is greater\n"
     ]
    }
   ],
   "source": [
    "# Conditional Statement\n",
    "\n",
    "a = 6\n",
    "\n",
    "b = 10\n",
    "\n",
    "if a>b:\n",
    "    \n",
    "    print('a is greater')\n",
    "    \n",
    "if b>a: \n",
    "    \n",
    "    print('b is greater')\n",
    "    \n",
    "if b>a: \n",
    "    \n",
    "    print('b is greater')\n",
    "    \n",
    "if a==b:\n",
    "        \n",
    "    print('a and b are same')"
   ]
  },
  {
   "cell_type": "code",
   "execution_count": 136,
   "id": "325a7689",
   "metadata": {},
   "outputs": [
    {
     "name": "stdout",
     "output_type": "stream",
     "text": [
      "b is greater\n"
     ]
    }
   ],
   "source": [
    "# elif Conditional Statement will only be checked if previous condition is false.\n",
    "\n",
    "if a>b:\n",
    "    \n",
    "    print('a is greater')\n",
    "    \n",
    "elif b>a: \n",
    "    \n",
    "    print('b is greater')\n",
    "    \n",
    "elif b>a: \n",
    "    \n",
    "    print('b is greater')\n",
    "    \n",
    "elif a==b:\n",
    "        \n",
    "    print('a and b are same')"
   ]
  },
  {
   "cell_type": "code",
   "execution_count": 137,
   "id": "5cb230fb",
   "metadata": {},
   "outputs": [
    {
     "name": "stdout",
     "output_type": "stream",
     "text": [
      "b is greater\n"
     ]
    }
   ],
   "source": [
    "# Conditional Statement\n",
    "\n",
    "a = 6\n",
    "\n",
    "b = 10\n",
    "\n",
    "if a>b:\n",
    "    \n",
    "    print('a is greater')\n",
    "    \n",
    "if b>a: \n",
    "    \n",
    "    print('b is greater')\n",
    "    \n",
    "if a==b:\n",
    "        \n",
    "    print('a and b are same')"
   ]
  },
  {
   "cell_type": "code",
   "execution_count": 138,
   "id": "0c993a5c",
   "metadata": {},
   "outputs": [
    {
     "name": "stdout",
     "output_type": "stream",
     "text": [
      "b is greater\n"
     ]
    }
   ],
   "source": [
    "# Conditional Statement\n",
    "\n",
    "a = 6\n",
    "\n",
    "b = 10\n",
    "\n",
    "if a>b:\n",
    "    \n",
    "    print('a is greater')\n",
    "    \n",
    "elif b>a: \n",
    "    \n",
    "    print('b is greater')\n",
    "    \n",
    "elif a==b:\n",
    "        \n",
    "    print('a and b are same')"
   ]
  },
  {
   "cell_type": "code",
   "execution_count": 139,
   "id": "768b4fc3",
   "metadata": {},
   "outputs": [
    {
     "name": "stdout",
     "output_type": "stream",
     "text": [
      "a is greater\n"
     ]
    }
   ],
   "source": [
    "# Conditional Statement\n",
    "\n",
    "a = 16\n",
    "\n",
    "b = 10\n",
    "\n",
    "if a>b:\n",
    "    \n",
    "    print('a is greater')\n",
    "    \n",
    "if b>a: \n",
    "    \n",
    "    print('b is greater')\n",
    "    \n",
    "if a==b:\n",
    "        \n",
    "    print('a and b are same')"
   ]
  },
  {
   "cell_type": "code",
   "execution_count": 140,
   "id": "fc8cdb79",
   "metadata": {},
   "outputs": [
    {
     "name": "stdout",
     "output_type": "stream",
     "text": [
      "b is greater\n"
     ]
    }
   ],
   "source": [
    "# Conditional Statement\n",
    "\n",
    "a = 16\n",
    "\n",
    "b = 100\n",
    "\n",
    "if a>b:\n",
    "    \n",
    "    print('a is greater')\n",
    "    \n",
    "if b>a: \n",
    "    \n",
    "    print('b is greater')\n",
    "    \n",
    "if a==b:\n",
    "        \n",
    "    print('a and b are same')"
   ]
  },
  {
   "cell_type": "code",
   "execution_count": 141,
   "id": "2d4766dc",
   "metadata": {},
   "outputs": [
    {
     "name": "stdout",
     "output_type": "stream",
     "text": [
      "b is greater\n"
     ]
    }
   ],
   "source": [
    "# Conditional Statement\n",
    "\n",
    "a = 16\n",
    "\n",
    "b = 100\n",
    "\n",
    "if a>b:\n",
    "    \n",
    "    print('a is greater')\n",
    "    \n",
    "elif b>a: \n",
    "    \n",
    "    print('b is greater')\n",
    "    \n",
    "elif a==b:\n",
    "        \n",
    "    print('a and b are same')"
   ]
  },
  {
   "cell_type": "code",
   "execution_count": 143,
   "id": "57abe736",
   "metadata": {},
   "outputs": [
    {
     "name": "stdout",
     "output_type": "stream",
     "text": [
      "a is 9\n"
     ]
    }
   ],
   "source": [
    "a = 9\n",
    "\n",
    "if a ==9:\n",
    "    \n",
    "    print('a is 9')\n",
    "    \n",
    "elif a==9:\n",
    "        \n",
    "    print('a is 9')"
   ]
  },
  {
   "cell_type": "code",
   "execution_count": 144,
   "id": "ace08e45",
   "metadata": {},
   "outputs": [],
   "source": [
    "a = 10\n",
    "\n",
    "if a ==9:\n",
    "    \n",
    "    print('a is 9')\n",
    "    \n",
    "elif a==9:\n",
    "        \n",
    "    print('a is 9')"
   ]
  },
  {
   "cell_type": "code",
   "execution_count": 147,
   "id": "a9633f28",
   "metadata": {},
   "outputs": [
    {
     "name": "stdout",
     "output_type": "stream",
     "text": [
      "a is not 9\n"
     ]
    }
   ],
   "source": [
    "a = 10\n",
    "\n",
    "if a ==9:\n",
    "    \n",
    "    print('a is 9')\n",
    "    \n",
    "elif a==9:\n",
    "        \n",
    "    print('a is 9')\n",
    "    \n",
    "else:\n",
    "    \n",
    "    print('a is not 9')"
   ]
  },
  {
   "cell_type": "code",
   "execution_count": null,
   "id": "eba0b2b1",
   "metadata": {},
   "outputs": [],
   "source": [
    "if\n",
    "if\n",
    "if......\n",
    "\n",
    "if\n",
    "elif\n",
    "elif.........\n",
    "\n",
    "if\n",
    ".\n",
    ".\n",
    ".\n",
    "else\n",
    "\n",
    "if\n",
    "elif\n",
    ".\n",
    ".\n",
    ".\n",
    ".\n",
    "elif\n",
    "else\n",
    "\n",
    "# Always starts with if\n",
    "# Can end with elif or else\n",
    "# elif can be found in the middle or last but else will always be at last\n",
    "\n",
    "Start - if\n",
    "Mid - elif, if\n",
    "End - else, elif, if"
   ]
  }
 ],
 "metadata": {
  "kernelspec": {
   "display_name": "Python 3 (ipykernel)",
   "language": "python",
   "name": "python3"
  },
  "language_info": {
   "codemirror_mode": {
    "name": "ipython",
    "version": 3
   },
   "file_extension": ".py",
   "mimetype": "text/x-python",
   "name": "python",
   "nbconvert_exporter": "python",
   "pygments_lexer": "ipython3",
   "version": "3.9.13"
  }
 },
 "nbformat": 4,
 "nbformat_minor": 5
}
