{
 "cells": [
  {
   "cell_type": "code",
   "execution_count": 10,
   "id": "6ecc9436",
   "metadata": {},
   "outputs": [],
   "source": [
    "list1 = [2,3,5,6]\n",
    "\n",
    "list1[0] = list1[0]*2\n",
    "list1[1] = list1[1]*2\n",
    "list1[2] = list1[2]*2\n",
    "list1[3] = list1[3]*2"
   ]
  },
  {
   "cell_type": "code",
   "execution_count": 38,
   "id": "2e83cf93",
   "metadata": {},
   "outputs": [
    {
     "data": {
      "text/plain": [
       "[10, 11, 12, 13, 14, 15, 16]"
      ]
     },
     "execution_count": 38,
     "metadata": {},
     "output_type": "execute_result"
    }
   ],
   "source": [
    "list1=list(range(10,17))\n",
    "list1"
   ]
  },
  {
   "cell_type": "code",
   "execution_count": 31,
   "id": "d3a597eb",
   "metadata": {},
   "outputs": [],
   "source": [
    "for element in list1:\n",
    "    index = list1.index(element)\n",
    "    list1[index]=element*2"
   ]
  },
  {
   "cell_type": "code",
   "execution_count": 37,
   "id": "5af1805b",
   "metadata": {},
   "outputs": [
    {
     "data": {
      "text/plain": [
       "[20, 22, 24, 26, 28, 30, 32]"
      ]
     },
     "execution_count": 37,
     "metadata": {},
     "output_type": "execute_result"
    }
   ],
   "source": [
    "list2= []\n",
    "for element in list1:\n",
    "    list2.append(element*2)\n",
    "    \n",
    "list2"
   ]
  },
  {
   "cell_type": "code",
   "execution_count": 50,
   "id": "9a39917c",
   "metadata": {},
   "outputs": [
    {
     "data": {
      "text/plain": [
       "[67, 2, 8]"
      ]
     },
     "execution_count": 50,
     "metadata": {},
     "output_type": "execute_result"
    }
   ],
   "source": [
    "list2= []\n",
    "for element in list1:\n",
    "    if list1.index(element) % 2 == 0:\n",
    "        list2.append(element)\n",
    "    \n",
    "list2"
   ]
  },
  {
   "cell_type": "code",
   "execution_count": 52,
   "id": "bdf3fc52",
   "metadata": {},
   "outputs": [
    {
     "data": {
      "text/plain": [
       "[67, 2, 8]"
      ]
     },
     "execution_count": 52,
     "metadata": {},
     "output_type": "execute_result"
    }
   ],
   "source": [
    "list1 =[67,34,2,5,8,12]\n",
    "\n",
    "list2= []\n",
    "for index in range(len(list1)):\n",
    "    if index % 2 == 0:\n",
    "        list2.append(list1[index])\n",
    "    \n",
    "list2\n"
   ]
  },
  {
   "cell_type": "code",
   "execution_count": 53,
   "id": "d2735c04",
   "metadata": {},
   "outputs": [
    {
     "data": {
      "text/plain": [
       "128"
      ]
     },
     "execution_count": 53,
     "metadata": {},
     "output_type": "execute_result"
    }
   ],
   "source": [
    "result_sum = 0\n",
    "for element in list1:\n",
    "    result_sum = result_sum + element\n",
    "   \n",
    "    \n",
    "result_sum"
   ]
  },
  {
   "cell_type": "code",
   "execution_count": 60,
   "id": "776a5716",
   "metadata": {},
   "outputs": [
    {
     "name": "stdout",
     "output_type": "stream",
     "text": [
      "1 1\n",
      "2 2\n",
      "3 6\n",
      "4 24\n"
     ]
    },
    {
     "data": {
      "text/plain": [
       "24"
      ]
     },
     "execution_count": 60,
     "metadata": {},
     "output_type": "execute_result"
    }
   ],
   "source": [
    "n = 4\n",
    "# list1 = list(range(1,n+1))\n",
    "\n",
    "result_sum = 1\n",
    "for element in range(1,n+1):\n",
    "    result_sum = result_sum * element\n",
    "    print(element,result_sum)\n",
    "   \n",
    "    \n",
    "result_sum"
   ]
  },
  {
   "cell_type": "code",
   "execution_count": 54,
   "id": "b2a4001e",
   "metadata": {},
   "outputs": [
    {
     "data": {
      "text/plain": [
       "[67, 34, 2, 5, 8, 12]"
      ]
     },
     "execution_count": 54,
     "metadata": {},
     "output_type": "execute_result"
    }
   ],
   "source": [
    "list1"
   ]
  },
  {
   "cell_type": "code",
   "execution_count": null,
   "id": "856585ac",
   "metadata": {},
   "outputs": [],
   "source": [
    "5! = 1*2*3*4*5  = 120\n",
    "4! = 1*2*3*4 = 24\n",
    "\n",
    "5! = 4! * 5\n",
    "\n",
    "n = 5\n"
   ]
  },
  {
   "cell_type": "code",
   "execution_count": null,
   "id": "b1e12409",
   "metadata": {},
   "outputs": [],
   "source": [
    "madam\n",
    "121\n",
    "\n",
    "123321\n",
    "\n"
   ]
  },
  {
   "cell_type": "code",
   "execution_count": 64,
   "id": "4ad0ede5",
   "metadata": {},
   "outputs": [
    {
     "name": "stdout",
     "output_type": "stream",
     "text": [
      "Pal\n"
     ]
    }
   ],
   "source": [
    "s = '12321'\n",
    "if s==s[::-1]:\n",
    "    print('Pal')\n",
    "else:\n",
    "    print('Not')"
   ]
  },
  {
   "cell_type": "code",
   "execution_count": 73,
   "id": "d674f3d4",
   "metadata": {},
   "outputs": [
    {
     "data": {
      "text/plain": [
       "[57, 757, 256558]"
      ]
     },
     "execution_count": 73,
     "metadata": {},
     "output_type": "execute_result"
    }
   ],
   "source": [
    "list5 =[57,494,757,375,256558]\n",
    "\n",
    "list7= []\n",
    "for index in range(len(list5)):\n",
    "    if index % 2 == 0:\n",
    "        list7.append(list5[index])\n",
    "\n",
    "list7"
   ]
  },
  {
   "cell_type": "code",
   "execution_count": null,
   "id": "08c685ed",
   "metadata": {},
   "outputs": [],
   "source": []
  }
 ],
 "metadata": {
  "kernelspec": {
   "display_name": "Python 3 (ipykernel)",
   "language": "python",
   "name": "python3"
  },
  "language_info": {
   "codemirror_mode": {
    "name": "ipython",
    "version": 3
   },
   "file_extension": ".py",
   "mimetype": "text/x-python",
   "name": "python",
   "nbconvert_exporter": "python",
   "pygments_lexer": "ipython3",
   "version": "3.9.12"
  }
 },
 "nbformat": 4,
 "nbformat_minor": 5
}
