{
 "cells": [
  {
   "cell_type": "code",
   "execution_count": 2,
   "id": "e218ef39",
   "metadata": {},
   "outputs": [
    {
     "data": {
      "text/plain": [
       "3"
      ]
     },
     "execution_count": 2,
     "metadata": {},
     "output_type": "execute_result"
    }
   ],
   "source": [
    "# Dictionary recap\n",
    "\n",
    "# dict1 = {key:value}\n",
    "\n",
    "dict1 = {1:'A', 2:'B', 3:'C'}\n",
    "\n",
    "len(dict1)"
   ]
  },
  {
   "cell_type": "code",
   "execution_count": 3,
   "id": "f69b79f0",
   "metadata": {},
   "outputs": [
    {
     "data": {
      "text/plain": [
       "2"
      ]
     },
     "execution_count": 3,
     "metadata": {},
     "output_type": "execute_result"
    }
   ],
   "source": [
    "list1 = [2, 3, 5, 6]\n",
    "\n",
    "list1[0]"
   ]
  },
  {
   "cell_type": "code",
   "execution_count": 4,
   "id": "75bb2e0f",
   "metadata": {},
   "outputs": [
    {
     "data": {
      "text/plain": [
       "4"
      ]
     },
     "execution_count": 4,
     "metadata": {},
     "output_type": "execute_result"
    }
   ],
   "source": [
    "list1 = [2, 3, 5, 6]\n",
    "\n",
    "list1[0]*2"
   ]
  },
  {
   "cell_type": "code",
   "execution_count": 5,
   "id": "e61b5cb8",
   "metadata": {},
   "outputs": [
    {
     "data": {
      "text/plain": [
       "30"
      ]
     },
     "execution_count": 5,
     "metadata": {},
     "output_type": "execute_result"
    }
   ],
   "source": [
    "list1 = [2, 3, 5, 6]\n",
    "\n",
    "list1[3]*5"
   ]
  },
  {
   "cell_type": "code",
   "execution_count": 6,
   "id": "c67c6292",
   "metadata": {},
   "outputs": [
    {
     "data": {
      "text/plain": [
       "[2, 3, 5, 6]"
      ]
     },
     "execution_count": 6,
     "metadata": {},
     "output_type": "execute_result"
    }
   ],
   "source": [
    "list1"
   ]
  },
  {
   "cell_type": "code",
   "execution_count": 8,
   "id": "161e3226",
   "metadata": {},
   "outputs": [
    {
     "ename": "AttributeError",
     "evalue": "'list' object has no attribute 'update'",
     "output_type": "error",
     "traceback": [
      "\u001b[1;31m---------------------------------------------------------------------------\u001b[0m",
      "\u001b[1;31mAttributeError\u001b[0m                            Traceback (most recent call last)",
      "\u001b[1;32m~\\AppData\\Local\\Temp\\ipykernel_26860\\1098386822.py\u001b[0m in \u001b[0;36m<module>\u001b[1;34m\u001b[0m\n\u001b[0;32m      1\u001b[0m \u001b[0mlist1\u001b[0m\u001b[1;33m[\u001b[0m\u001b[1;36m0\u001b[0m\u001b[1;33m]\u001b[0m\u001b[1;33m*\u001b[0m\u001b[1;36m2\u001b[0m\u001b[1;33m\u001b[0m\u001b[1;33m\u001b[0m\u001b[0m\n\u001b[1;32m----> 2\u001b[1;33m \u001b[0mlist1\u001b[0m\u001b[1;33m.\u001b[0m\u001b[0mupdate\u001b[0m\u001b[1;33m\u001b[0m\u001b[1;33m\u001b[0m\u001b[0m\n\u001b[0m\u001b[0;32m      3\u001b[0m \u001b[0mlist1\u001b[0m\u001b[1;33m\u001b[0m\u001b[1;33m\u001b[0m\u001b[0m\n",
      "\u001b[1;31mAttributeError\u001b[0m: 'list' object has no attribute 'update'"
     ]
    }
   ],
   "source": [
    "list1[0]*2\n",
    "list1.update\n",
    "list1"
   ]
  },
  {
   "cell_type": "code",
   "execution_count": 9,
   "id": "ac5fa3c8",
   "metadata": {},
   "outputs": [
    {
     "data": {
      "text/plain": [
       "3"
      ]
     },
     "execution_count": 9,
     "metadata": {},
     "output_type": "execute_result"
    }
   ],
   "source": [
    "list1[1]"
   ]
  },
  {
   "cell_type": "code",
   "execution_count": 10,
   "id": "f9d121cb",
   "metadata": {},
   "outputs": [],
   "source": [
    "list1[1] = 100"
   ]
  },
  {
   "cell_type": "code",
   "execution_count": 11,
   "id": "f6471dbf",
   "metadata": {},
   "outputs": [
    {
     "data": {
      "text/plain": [
       "[2, 100, 5, 6]"
      ]
     },
     "execution_count": 11,
     "metadata": {},
     "output_type": "execute_result"
    }
   ],
   "source": [
    "list1"
   ]
  },
  {
   "cell_type": "code",
   "execution_count": 12,
   "id": "61bfc680",
   "metadata": {},
   "outputs": [],
   "source": [
    "list1 = [2, 3, 5, 6]\n",
    "\n",
    "list1[0] = list1[0]*2\n",
    "\n",
    "list1[1] = list1[1]*2\n",
    "\n",
    "list1[2] = list1[2]*2\n",
    "\n",
    "list1[3] = list1[3]*2"
   ]
  },
  {
   "cell_type": "code",
   "execution_count": 13,
   "id": "3ff5fef1",
   "metadata": {},
   "outputs": [
    {
     "data": {
      "text/plain": [
       "[4, 6, 10, 12]"
      ]
     },
     "execution_count": 13,
     "metadata": {},
     "output_type": "execute_result"
    }
   ],
   "source": [
    "list1"
   ]
  },
  {
   "cell_type": "code",
   "execution_count": 14,
   "id": "d53ef166",
   "metadata": {},
   "outputs": [
    {
     "data": {
      "text/plain": [
       "[0, 1, 2, 3]"
      ]
     },
     "execution_count": 14,
     "metadata": {},
     "output_type": "execute_result"
    }
   ],
   "source": [
    "list(range(4))"
   ]
  },
  {
   "cell_type": "code",
   "execution_count": 15,
   "id": "a974ea1b",
   "metadata": {},
   "outputs": [
    {
     "data": {
      "text/plain": [
       "[0, 1, 2, 3]"
      ]
     },
     "execution_count": 15,
     "metadata": {},
     "output_type": "execute_result"
    }
   ],
   "source": [
    "list(range(0, 4))"
   ]
  },
  {
   "cell_type": "code",
   "execution_count": 16,
   "id": "faa517de",
   "metadata": {},
   "outputs": [
    {
     "data": {
      "text/plain": [
       "[1, 2, 3]"
      ]
     },
     "execution_count": 16,
     "metadata": {},
     "output_type": "execute_result"
    }
   ],
   "source": [
    "list(range(1, 4))"
   ]
  },
  {
   "cell_type": "code",
   "execution_count": 17,
   "id": "2377390e",
   "metadata": {},
   "outputs": [
    {
     "name": "stdout",
     "output_type": "stream",
     "text": [
      "1\n",
      "2\n",
      "3\n"
     ]
    }
   ],
   "source": [
    "for i in list(range(1, 4)):\n",
    "    \n",
    "    print(i)"
   ]
  },
  {
   "cell_type": "code",
   "execution_count": 18,
   "id": "609ef31e",
   "metadata": {},
   "outputs": [
    {
     "data": {
      "text/plain": [
       "[4, 6, 10, 12]"
      ]
     },
     "execution_count": 18,
     "metadata": {},
     "output_type": "execute_result"
    }
   ],
   "source": [
    "list1"
   ]
  },
  {
   "cell_type": "code",
   "execution_count": 19,
   "id": "26811da4",
   "metadata": {},
   "outputs": [
    {
     "data": {
      "text/plain": [
       "[0, 1, 2, 3, 4, 5]"
      ]
     },
     "execution_count": 19,
     "metadata": {},
     "output_type": "execute_result"
    }
   ],
   "source": [
    "list(range(6))"
   ]
  },
  {
   "cell_type": "code",
   "execution_count": 20,
   "id": "6f4e09e5",
   "metadata": {},
   "outputs": [
    {
     "name": "stdout",
     "output_type": "stream",
     "text": [
      "0\n",
      "1\n",
      "2\n",
      "3\n",
      "4\n",
      "5\n"
     ]
    }
   ],
   "source": [
    "for i in list(range(6)):\n",
    "    \n",
    "    print(i)"
   ]
  },
  {
   "cell_type": "code",
   "execution_count": 21,
   "id": "903147a9",
   "metadata": {},
   "outputs": [
    {
     "name": "stdout",
     "output_type": "stream",
     "text": [
      "0\n",
      "1\n",
      "2\n",
      "3\n",
      "4\n",
      "5\n"
     ]
    }
   ],
   "source": [
    "for element in list(range(6)):\n",
    "    \n",
    "    print(element)"
   ]
  },
  {
   "cell_type": "code",
   "execution_count": 22,
   "id": "94ef0c6e",
   "metadata": {},
   "outputs": [
    {
     "data": {
      "text/plain": [
       "[4, 6, 10, 12]"
      ]
     },
     "execution_count": 22,
     "metadata": {},
     "output_type": "execute_result"
    }
   ],
   "source": [
    "list1"
   ]
  },
  {
   "cell_type": "code",
   "execution_count": 23,
   "id": "390a3064",
   "metadata": {},
   "outputs": [
    {
     "data": {
      "text/plain": [
       "[10, 11, 12, 13, 14, 15, 16]"
      ]
     },
     "execution_count": 23,
     "metadata": {},
     "output_type": "execute_result"
    }
   ],
   "source": [
    "list(range(10, 17))"
   ]
  },
  {
   "cell_type": "code",
   "execution_count": 24,
   "id": "69651616",
   "metadata": {},
   "outputs": [
    {
     "name": "stdout",
     "output_type": "stream",
     "text": [
      "10\n",
      "11\n",
      "12\n",
      "13\n",
      "14\n",
      "15\n",
      "16\n"
     ]
    }
   ],
   "source": [
    "for element in list(range(10, 17)):\n",
    "    \n",
    "    print(element)"
   ]
  },
  {
   "cell_type": "code",
   "execution_count": 25,
   "id": "a5b07ae2",
   "metadata": {},
   "outputs": [
    {
     "name": "stdout",
     "output_type": "stream",
     "text": [
      "20\n",
      "22\n",
      "24\n",
      "26\n",
      "28\n",
      "30\n",
      "32\n"
     ]
    }
   ],
   "source": [
    "for element in list(range(10, 17)):\n",
    "    \n",
    "    print(element*2)"
   ]
  },
  {
   "cell_type": "code",
   "execution_count": 26,
   "id": "9d2572bb",
   "metadata": {},
   "outputs": [],
   "source": [
    "list1=list(range(10, 17))"
   ]
  },
  {
   "cell_type": "code",
   "execution_count": 27,
   "id": "e74bb99d",
   "metadata": {},
   "outputs": [
    {
     "name": "stdout",
     "output_type": "stream",
     "text": [
      "0 10\n",
      "1 11\n",
      "2 12\n",
      "3 13\n",
      "4 14\n",
      "5 15\n",
      "6 16\n"
     ]
    }
   ],
   "source": [
    "for element in list1:\n",
    "    \n",
    "    print(list1.index(element),element)"
   ]
  },
  {
   "cell_type": "code",
   "execution_count": 28,
   "id": "b8b5e116",
   "metadata": {},
   "outputs": [
    {
     "name": "stdout",
     "output_type": "stream",
     "text": [
      "0 index 10 element\n",
      "1 index 11 element\n",
      "2 index 12 element\n",
      "3 index 13 element\n",
      "4 index 14 element\n",
      "5 index 15 element\n",
      "6 index 16 element\n"
     ]
    }
   ],
   "source": [
    "for element in list1:\n",
    "    \n",
    "    print(list1.index(element),'index',element,'element')"
   ]
  },
  {
   "cell_type": "code",
   "execution_count": 29,
   "id": "3b76fe3c",
   "metadata": {},
   "outputs": [],
   "source": [
    "for element in list1:\n",
    "    \n",
    "    index = list1.index(element)\n",
    "    \n",
    "    list1[index]=element*2"
   ]
  },
  {
   "cell_type": "code",
   "execution_count": 30,
   "id": "cf00e1aa",
   "metadata": {},
   "outputs": [
    {
     "data": {
      "text/plain": [
       "[20, 22, 24, 26, 28, 30, 32]"
      ]
     },
     "execution_count": 30,
     "metadata": {},
     "output_type": "execute_result"
    }
   ],
   "source": [
    "list1"
   ]
  },
  {
   "cell_type": "code",
   "execution_count": 31,
   "id": "7abc5392",
   "metadata": {},
   "outputs": [
    {
     "data": {
      "text/plain": [
       "0"
      ]
     },
     "execution_count": 31,
     "metadata": {},
     "output_type": "execute_result"
    }
   ],
   "source": [
    "list1.index(20)"
   ]
  },
  {
   "cell_type": "code",
   "execution_count": 32,
   "id": "cb1613ae",
   "metadata": {},
   "outputs": [],
   "source": [
    "list2 = []\n",
    "\n",
    "for element in list1:\n",
    "    \n",
    "    index = list1.index(element)\n",
    "    \n",
    "    list2.append(element*2)\n",
    "    \n",
    "    list2"
   ]
  },
  {
   "cell_type": "code",
   "execution_count": 33,
   "id": "f7e0655e",
   "metadata": {},
   "outputs": [
    {
     "data": {
      "text/plain": [
       "[40, 44, 48, 52, 56, 60, 64]"
      ]
     },
     "execution_count": 33,
     "metadata": {},
     "output_type": "execute_result"
    }
   ],
   "source": [
    "list2"
   ]
  },
  {
   "cell_type": "code",
   "execution_count": 34,
   "id": "2825a7c4",
   "metadata": {},
   "outputs": [
    {
     "data": {
      "text/plain": [
       "[10, 11, 12, 13, 14, 15, 16]"
      ]
     },
     "execution_count": 34,
     "metadata": {},
     "output_type": "execute_result"
    }
   ],
   "source": [
    "list1=list(range(10, 17))\n",
    "\n",
    "list1"
   ]
  },
  {
   "cell_type": "code",
   "execution_count": 37,
   "id": "382da80c",
   "metadata": {},
   "outputs": [],
   "source": [
    "list2 = []\n",
    "\n",
    "for element in list1:\n",
    "    \n",
    "    if element % 2 == 0:\n",
    "    \n",
    "       list2.append(element*2)\n",
    "    \n",
    "    list2"
   ]
  },
  {
   "cell_type": "code",
   "execution_count": 38,
   "id": "ad0bfc62",
   "metadata": {},
   "outputs": [
    {
     "data": {
      "text/plain": [
       "[20, 24, 28, 32]"
      ]
     },
     "execution_count": 38,
     "metadata": {},
     "output_type": "execute_result"
    }
   ],
   "source": [
    "list2"
   ]
  },
  {
   "cell_type": "code",
   "execution_count": 45,
   "id": "10e709a9",
   "metadata": {},
   "outputs": [],
   "source": [
    "list2 = []\n",
    "\n",
    "for element in list1:\n",
    "    \n",
    "    if element % 2 == 0:\n",
    "    \n",
    "       list2.append(element)"
   ]
  },
  {
   "cell_type": "code",
   "execution_count": 46,
   "id": "d67494f5",
   "metadata": {},
   "outputs": [
    {
     "data": {
      "text/plain": [
       "[20, 22, 24, 26, 28, 30, 32]"
      ]
     },
     "execution_count": 46,
     "metadata": {},
     "output_type": "execute_result"
    }
   ],
   "source": [
    "list2"
   ]
  },
  {
   "cell_type": "code",
   "execution_count": 48,
   "id": "f88b767c",
   "metadata": {},
   "outputs": [],
   "source": [
    "list1 = [67, 34, 2, 5, 8, 12]\n",
    "\n",
    "list2 = []\n",
    "\n",
    "for element in list1:\n",
    "    \n",
    "    if element % 2 == 0:\n",
    "    \n",
    "       list2.append(element)"
   ]
  },
  {
   "cell_type": "code",
   "execution_count": 49,
   "id": "29191837",
   "metadata": {},
   "outputs": [
    {
     "data": {
      "text/plain": [
       "[34, 2, 8, 12]"
      ]
     },
     "execution_count": 49,
     "metadata": {},
     "output_type": "execute_result"
    }
   ],
   "source": [
    "list2"
   ]
  },
  {
   "cell_type": "code",
   "execution_count": 50,
   "id": "c27771fc",
   "metadata": {},
   "outputs": [],
   "source": [
    "list1 = [67, 34, 2, 5, 8, 12]\n",
    "\n",
    "list2 = []\n",
    "\n",
    "for element in list1:\n",
    "    \n",
    "    if element % 2 == 0:\n",
    "    \n",
    "       list2.append(element*2)"
   ]
  },
  {
   "cell_type": "code",
   "execution_count": 51,
   "id": "0cfc2932",
   "metadata": {},
   "outputs": [
    {
     "data": {
      "text/plain": [
       "[68, 4, 16, 24]"
      ]
     },
     "execution_count": 51,
     "metadata": {},
     "output_type": "execute_result"
    }
   ],
   "source": [
    "list2"
   ]
  },
  {
   "cell_type": "code",
   "execution_count": 52,
   "id": "d35624a6",
   "metadata": {},
   "outputs": [],
   "source": [
    "list2 = []\n",
    "\n",
    "for element in list1:\n",
    "    \n",
    "    if list1.index(element) % 2 == 0:\n",
    "    \n",
    "       list2.append(element)"
   ]
  },
  {
   "cell_type": "code",
   "execution_count": 53,
   "id": "89951013",
   "metadata": {},
   "outputs": [
    {
     "data": {
      "text/plain": [
       "[67, 2, 8]"
      ]
     },
     "execution_count": 53,
     "metadata": {},
     "output_type": "execute_result"
    }
   ],
   "source": [
    "list2"
   ]
  },
  {
   "cell_type": "code",
   "execution_count": 66,
   "id": "7e457a9e",
   "metadata": {},
   "outputs": [],
   "source": [
    "list1 = [67, 34, 2, 5, 8, 12]\n",
    "\n",
    "list2 = []\n",
    "\n",
    "for index in range(len(list1)):\n",
    "                   \n",
    "                   if index % 2 == 0:\n",
    "                           list2.append(list1[index])"
   ]
  },
  {
   "cell_type": "code",
   "execution_count": 67,
   "id": "05e62828",
   "metadata": {},
   "outputs": [
    {
     "data": {
      "text/plain": [
       "[67, 2, 8]"
      ]
     },
     "execution_count": 67,
     "metadata": {},
     "output_type": "execute_result"
    }
   ],
   "source": [
    "list2"
   ]
  },
  {
   "cell_type": "code",
   "execution_count": 68,
   "id": "6cf16405",
   "metadata": {},
   "outputs": [
    {
     "name": "stdout",
     "output_type": "stream",
     "text": [
      "The given list is:\n",
      "[1, 2, 3, 4, 5, 6, 7, 8, 9]\n",
      "Sum of all the elements in the list is: 45\n"
     ]
    }
   ],
   "source": [
    "myList = [1, 2, 3, 4, 5, 6, 7, 8, 9]\n",
    "print(\"The given list is:\")\n",
    "print(myList)\n",
    "list_length=len(myList)\n",
    "sumOfElements=0\n",
    "for i in range(list_length):\n",
    "    sumOfElements=sumOfElements+myList[i]\n",
    "\n",
    "print(\"Sum of all the elements in the list is:\", sumOfElements)"
   ]
  },
  {
   "cell_type": "code",
   "execution_count": 73,
   "id": "6d39a290",
   "metadata": {},
   "outputs": [
    {
     "name": "stdout",
     "output_type": "stream",
     "text": [
      "10 4 66 "
     ]
    }
   ],
   "source": [
    "# Python program to print Even Numbers in a List\n",
    " \n",
    "# list of numbers\n",
    "list1 = [10, 21, 4, 45, 66, 93]\n",
    " \n",
    "# iterating each number in list\n",
    "for num in list1:\n",
    " \n",
    "    # checking condition\n",
    "    if num % 2 == 0:\n",
    "        print(num, end=\" \")"
   ]
  },
  {
   "cell_type": "code",
   "execution_count": 74,
   "id": "5aafdac8",
   "metadata": {},
   "outputs": [
    {
     "name": "stdout",
     "output_type": "stream",
     "text": [
      "21 45 93 "
     ]
    }
   ],
   "source": [
    "# Python program to print odd Numbers in a List\n",
    " \n",
    "# list of numbers\n",
    "list1 = [10, 21, 4, 45, 66, 93]\n",
    " \n",
    "# iterating each number in list\n",
    "for num in list1:\n",
    " \n",
    "    # checking condition\n",
    "    if num % 2 != 0:\n",
    "       print(num, end=\" \")"
   ]
  },
  {
   "cell_type": "code",
   "execution_count": 79,
   "id": "d22de9d5",
   "metadata": {},
   "outputs": [],
   "source": [
    "list1 = [67, 34, 2, 5, 8, 12]\n",
    "\n",
    "result_sum = 0\n",
    "\n",
    "for element in list1:\n",
    "    \n",
    "    result_sum = result_sum + element"
   ]
  },
  {
   "cell_type": "code",
   "execution_count": 80,
   "id": "5b87233b",
   "metadata": {},
   "outputs": [
    {
     "data": {
      "text/plain": [
       "128"
      ]
     },
     "execution_count": 80,
     "metadata": {},
     "output_type": "execute_result"
    }
   ],
   "source": [
    "result_sum"
   ]
  },
  {
   "cell_type": "code",
   "execution_count": 83,
   "id": "24b4a902",
   "metadata": {},
   "outputs": [
    {
     "data": {
      "text/plain": [
       "[67, 34, 2, 5, 8, 12]"
      ]
     },
     "execution_count": 83,
     "metadata": {},
     "output_type": "execute_result"
    }
   ],
   "source": [
    "list1"
   ]
  },
  {
   "cell_type": "code",
   "execution_count": 84,
   "id": "c1542713",
   "metadata": {},
   "outputs": [
    {
     "name": "stdout",
     "output_type": "stream",
     "text": [
      "Enter a number: 5\n",
      "The factorial of 5 is 120\n"
     ]
    }
   ],
   "source": [
    "#Taking user input\n",
    "n = int(input(\"Enter a number: \"))\n",
    "\n",
    "factorial = 1\n",
    "\n",
    "if n < 0: #Check if the number is negative\n",
    "   print(\"Factors do not exist for negative numbers.\")\n",
    "elif n == 0: #Check if the number is zero\n",
    "   print(\"The factorial of 0 is 1.\")\n",
    "else:\n",
    "   for i in range(1,n + 1):\n",
    "       factorial = factorial*i\n",
    "   print(\"The factorial of\",n,\"is\",factorial)"
   ]
  },
  {
   "cell_type": "code",
   "execution_count": 85,
   "id": "cfde5119",
   "metadata": {},
   "outputs": [
    {
     "name": "stdout",
     "output_type": "stream",
     "text": [
      "Enter a number: 12\n",
      "The factorial of 12 is 479001600\n"
     ]
    }
   ],
   "source": [
    "#Taking user input\n",
    "n = int(input(\"Enter a number: \"))\n",
    "\n",
    "factorial = 1\n",
    "\n",
    "if n < 0: #Check if the number is negative\n",
    "   print(\"Factors do not exist for negative numbers.\")\n",
    "elif n == 0: #Check if the number is zero\n",
    "   print(\"The factorial of 0 is 1.\")\n",
    "else:\n",
    "   for i in range(1,n + 1):\n",
    "       factorial = factorial*i\n",
    "   print(\"The factorial of\",n,\"is\",factorial)"
   ]
  },
  {
   "cell_type": "code",
   "execution_count": 86,
   "id": "b1ce6858",
   "metadata": {},
   "outputs": [
    {
     "name": "stdout",
     "output_type": "stream",
     "text": [
      "1\n",
      "2\n",
      "3\n",
      "4\n",
      "5\n"
     ]
    }
   ],
   "source": [
    "#initialize count variable to 1\n",
    "count =1\n",
    "\n",
    "while count < 6 :\n",
    "    print (count)\n",
    "    count+=1\n",
    "#the above line means count = count + 1"
   ]
  },
  {
   "cell_type": "code",
   "execution_count": 87,
   "id": "1cb882e7",
   "metadata": {},
   "outputs": [],
   "source": [
    "n = 5\n",
    "\n",
    "list1 = list(range(1, n+1))\n",
    "\n",
    "result_sum = 1\n",
    "\n",
    "for element in list1:\n",
    "    \n",
    "    result_sum = result_sum * element"
   ]
  },
  {
   "cell_type": "code",
   "execution_count": 88,
   "id": "a33c3e5a",
   "metadata": {},
   "outputs": [
    {
     "data": {
      "text/plain": [
       "120"
      ]
     },
     "execution_count": 88,
     "metadata": {},
     "output_type": "execute_result"
    }
   ],
   "source": [
    "result_sum"
   ]
  },
  {
   "cell_type": "code",
   "execution_count": 89,
   "id": "b1d2bdc3",
   "metadata": {},
   "outputs": [],
   "source": [
    "n = 14\n",
    "\n",
    "list1 = list(range(1, n+1))\n",
    "\n",
    "result_sum = 1\n",
    "\n",
    "for element in list1:\n",
    "    \n",
    "    result_sum = result_sum * element"
   ]
  },
  {
   "cell_type": "code",
   "execution_count": 90,
   "id": "e84d1990",
   "metadata": {},
   "outputs": [
    {
     "data": {
      "text/plain": [
       "87178291200"
      ]
     },
     "execution_count": 90,
     "metadata": {},
     "output_type": "execute_result"
    }
   ],
   "source": [
    "result_sum"
   ]
  },
  {
   "cell_type": "code",
   "execution_count": null,
   "id": "88e3dcfe",
   "metadata": {},
   "outputs": [],
   "source": [
    "n = 14\n",
    "\n",
    "#list1 = list(range(1, n+1))\n",
    "\n",
    "result_sum = 1\n",
    "\n",
    "for element in list1:\n",
    "    \n",
    "    result_sum = result_sum * element\n",
    "    \n",
    "    print(element, result_sum)"
   ]
  },
  {
   "cell_type": "code",
   "execution_count": 95,
   "id": "aa68c5f2",
   "metadata": {},
   "outputs": [
    {
     "data": {
      "text/plain": [
       "87178291200"
      ]
     },
     "execution_count": 95,
     "metadata": {},
     "output_type": "execute_result"
    }
   ],
   "source": [
    "result_sum"
   ]
  },
  {
   "cell_type": "code",
   "execution_count": 97,
   "id": "3b79bc24",
   "metadata": {},
   "outputs": [
    {
     "name": "stdout",
     "output_type": "stream",
     "text": [
      "1 1\n",
      "2 2\n",
      "3 6\n",
      "4 24\n",
      "5 120\n",
      "6 720\n",
      "7 5040\n",
      "8 40320\n",
      "9 362880\n",
      "10 3628800\n",
      "11 39916800\n",
      "12 479001600\n",
      "13 6227020800\n",
      "14 87178291200\n"
     ]
    }
   ],
   "source": [
    "n = 14\n",
    "\n",
    "#list1 = list(range(1, n+1))\n",
    "\n",
    "result_sum = 1\n",
    "\n",
    "for element in list1:\n",
    "    \n",
    "    result_sum = result_sum * element\n",
    "    \n",
    "    print(element, result_sum)\n",
    "    \n",
    "    result_sum"
   ]
  },
  {
   "cell_type": "code",
   "execution_count": 102,
   "id": "c3bd4cbc",
   "metadata": {},
   "outputs": [
    {
     "name": "stdout",
     "output_type": "stream",
     "text": [
      "1 3\n",
      "2 6\n",
      "3 18\n",
      "4 72\n",
      "5 360\n",
      "6 2160\n",
      "7 15120\n",
      "8 120960\n",
      "9 1088640\n",
      "10 10886400\n",
      "11 119750400\n",
      "12 1437004800\n",
      "13 18681062400\n",
      "14 261534873600\n"
     ]
    }
   ],
   "source": [
    "n = 3\n",
    "\n",
    "#list1 = list(range(1, n+1))\n",
    "\n",
    "result_sum = 1\n",
    "\n",
    "for element in list1:\n",
    "    \n",
    "    result_sum = result_sum * element\n",
    "    \n",
    "    print(element, result_sum)"
   ]
  },
  {
   "cell_type": "code",
   "execution_count": 103,
   "id": "04ec211a",
   "metadata": {},
   "outputs": [
    {
     "name": "stdout",
     "output_type": "stream",
     "text": [
      "Enter a letter:madam\n",
      "The letter is a palindrome\n"
     ]
    }
   ],
   "source": [
    "string=input((\"Enter a letter:\"))  \n",
    "if(string==string[::-1]):  \n",
    "      print(\"The letter is a palindrome\")  \n",
    "else:  \n",
    "      print(\"The letter is not a palindrome\")"
   ]
  },
  {
   "cell_type": "code",
   "execution_count": 104,
   "id": "69440e58",
   "metadata": {},
   "outputs": [
    {
     "name": "stdout",
     "output_type": "stream",
     "text": [
      "Enter a letter:JavaScript\n",
      "The letter is not a palindrome\n"
     ]
    }
   ],
   "source": [
    "string=input((\"Enter a letter:\"))  \n",
    "if(string==string[::-1]):  \n",
    "      print(\"The letter is a palindrome\")  \n",
    "else:  \n",
    "      print(\"The letter is not a palindrome\")"
   ]
  },
  {
   "cell_type": "code",
   "execution_count": 106,
   "id": "2f2a3f5d",
   "metadata": {},
   "outputs": [
    {
     "name": "stdout",
     "output_type": "stream",
     "text": [
      "Not\n"
     ]
    }
   ],
   "source": [
    "s = '123'\n",
    "\n",
    "if s==s[::-1]:\n",
    "    \n",
    "    print('Pal')\n",
    "    \n",
    "else:\n",
    "        \n",
    "    print('Not')"
   ]
  },
  {
   "cell_type": "code",
   "execution_count": 107,
   "id": "aa72dfe6",
   "metadata": {},
   "outputs": [
    {
     "name": "stdout",
     "output_type": "stream",
     "text": [
      "Pal\n"
     ]
    }
   ],
   "source": [
    "s = 'madam'\n",
    "\n",
    "if s==s[::-1]:\n",
    "    \n",
    "    print('Pal')\n",
    "    \n",
    "else:\n",
    "        \n",
    "    print('Not')"
   ]
  },
  {
   "cell_type": "code",
   "execution_count": 108,
   "id": "b7280bf5",
   "metadata": {},
   "outputs": [
    {
     "name": "stdout",
     "output_type": "stream",
     "text": [
      "Pal\n"
     ]
    }
   ],
   "source": [
    "s = '12321'\n",
    "\n",
    "if s==s[::-1]:\n",
    "    \n",
    "    print('Pal')\n",
    "    \n",
    "else:\n",
    "        \n",
    "    print('Not')"
   ]
  },
  {
   "cell_type": "code",
   "execution_count": 109,
   "id": "c4ed1bc2",
   "metadata": {},
   "outputs": [
    {
     "name": "stdout",
     "output_type": "stream",
     "text": [
      "Enter your name: Hriddho\n",
      "Enter your age: 22\n",
      "Enter your marks: 93\n",
      "The name is: Hriddho\n",
      "The age is: 22\n",
      "The marks is: 93.0\n"
     ]
    }
   ],
   "source": [
    "# Python program showing  \n",
    "# a use of input()  \n",
    "name = input(\"Enter your name: \")  # String Input  \n",
    "age = int(input(\"Enter your age: \")) # Integer Input  \n",
    "marks = float(input(\"Enter your marks: \")) # Float Input  \n",
    "print(\"The name is:\", name)  \n",
    "print(\"The age is:\", age)  \n",
    "print(\"The marks is:\", marks)  "
   ]
  },
  {
   "cell_type": "code",
   "execution_count": 110,
   "id": "a48b9008",
   "metadata": {},
   "outputs": [],
   "source": [
    "list5 = [56, 732, 91, 73, 22, 80, 21347, 342]\n",
    "\n",
    "list7 = []\n",
    "\n",
    "for index in range(len(list5)):\n",
    "    \n",
    "    if index % 2 == 0:\n",
    "        \n",
    "        list7.append(list5[index])\n",
    "        \n",
    "        list7"
   ]
  },
  {
   "cell_type": "code",
   "execution_count": 116,
   "id": "4880fa49",
   "metadata": {},
   "outputs": [
    {
     "data": {
      "text/plain": [
       "[56, 91, 22, 21347]"
      ]
     },
     "execution_count": 116,
     "metadata": {},
     "output_type": "execute_result"
    }
   ],
   "source": [
    " list7"
   ]
  },
  {
   "cell_type": "code",
   "execution_count": null,
   "id": "ff1eddc1",
   "metadata": {},
   "outputs": [],
   "source": []
  }
 ],
 "metadata": {
  "kernelspec": {
   "display_name": "Python 3 (ipykernel)",
   "language": "python",
   "name": "python3"
  },
  "language_info": {
   "codemirror_mode": {
    "name": "ipython",
    "version": 3
   },
   "file_extension": ".py",
   "mimetype": "text/x-python",
   "name": "python",
   "nbconvert_exporter": "python",
   "pygments_lexer": "ipython3",
   "version": "3.9.13"
  }
 },
 "nbformat": 4,
 "nbformat_minor": 5
}
