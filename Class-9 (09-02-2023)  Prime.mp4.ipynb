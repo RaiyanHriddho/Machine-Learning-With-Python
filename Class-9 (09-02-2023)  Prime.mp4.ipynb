{
 "cells": [
  {
   "cell_type": "code",
   "execution_count": 45,
   "id": "319317d0",
   "metadata": {},
   "outputs": [
    {
     "name": "stdout",
     "output_type": "stream",
     "text": [
      "1\n",
      "1, 2\n",
      "1, 2, 3\n",
      "1, 2, 3, 4\n",
      "1, 2, 3, 4, 5\n"
     ]
    }
   ],
   "source": [
    "for w in range(1,6):\n",
    "    s = str(list(range(1,w+1)))\n",
    "    print(s[1:-1])\n",
    "    \n"
   ]
  },
  {
   "cell_type": "code",
   "execution_count": 21,
   "id": "c4d887f8",
   "metadata": {},
   "outputs": [
    {
     "data": {
      "text/plain": [
       "'12345'"
      ]
     },
     "execution_count": 21,
     "metadata": {},
     "output_type": "execute_result"
    }
   ],
   "source": [
    "s[1:-1].replace(', ','')"
   ]
  },
  {
   "cell_type": "code",
   "execution_count": 25,
   "id": "76e1c17d",
   "metadata": {},
   "outputs": [
    {
     "data": {
      "text/plain": [
       "'1, 2, 3, 4, 5'"
      ]
     },
     "execution_count": 25,
     "metadata": {},
     "output_type": "execute_result"
    }
   ],
   "source": [
    "s[1:-1]"
   ]
  },
  {
   "cell_type": "code",
   "execution_count": 44,
   "id": "0a9e6f2e",
   "metadata": {},
   "outputs": [
    {
     "data": {
      "text/plain": [
       "'1, 2, 3, 4, 5'"
      ]
     },
     "execution_count": 44,
     "metadata": {},
     "output_type": "execute_result"
    }
   ],
   "source": [
    "list1 = str([1,2,3,4,5])\n",
    "\n",
    "list1[1:-1]"
   ]
  },
  {
   "cell_type": "code",
   "execution_count": 47,
   "id": "311f5831",
   "metadata": {},
   "outputs": [
    {
     "data": {
      "text/plain": [
       "'gfhgtf'"
      ]
     },
     "execution_count": 47,
     "metadata": {},
     "output_type": "execute_result"
    }
   ],
   "source": [
    "s= 'rgfhgtrf'\n",
    "s.replace('r','')"
   ]
  },
  {
   "cell_type": "code",
   "execution_count": 31,
   "id": "796fd539",
   "metadata": {},
   "outputs": [
    {
     "data": {
      "text/plain": [
       "[1]"
      ]
     },
     "execution_count": 31,
     "metadata": {},
     "output_type": "execute_result"
    }
   ],
   "source": [
    "list(range(1,2))"
   ]
  },
  {
   "cell_type": "code",
   "execution_count": 75,
   "id": "caf74dde",
   "metadata": {},
   "outputs": [
    {
     "name": "stdout",
     "output_type": "stream",
     "text": [
      "_possible_factor 2\n",
      "_possible_factor 3\n",
      "factor 3\n",
      "Non Prime\n"
     ]
    }
   ],
   "source": [
    "# 7,13,17,19\n",
    "\n",
    "result = 'Prime'\n",
    "\n",
    "n= 87\n",
    "for  _possible_factor in range(2,n):\n",
    "    if n%_possible_factor == 0 :\n",
    "        result = 'Non Prime'\n",
    "        break\n",
    "        \n",
    "        \n",
    "print(result)\n"
   ]
  },
  {
   "cell_type": "code",
   "execution_count": 78,
   "id": "68751809",
   "metadata": {},
   "outputs": [
    {
     "name": "stdout",
     "output_type": "stream",
     "text": [
      "Prime\n"
     ]
    }
   ],
   "source": [
    "# 7,13,17,19\n",
    "\n",
    "result = 'Prime'\n",
    "\n",
    "n= 7\n",
    "_possible_factor = 2\n",
    "while(_possible_factor<n):\n",
    "    if n%_possible_factor == 0 :\n",
    "        result = 'Non Prime'\n",
    "        break\n",
    "    _possible_factor = _possible_factor+1\n",
    "        \n",
    "        \n",
    "print(result)"
   ]
  },
  {
   "cell_type": "code",
   "execution_count": null,
   "id": "c0a01a87",
   "metadata": {},
   "outputs": [],
   "source": []
  }
 ],
 "metadata": {
  "kernelspec": {
   "display_name": "Python 3 (ipykernel)",
   "language": "python",
   "name": "python3"
  },
  "language_info": {
   "codemirror_mode": {
    "name": "ipython",
    "version": 3
   },
   "file_extension": ".py",
   "mimetype": "text/x-python",
   "name": "python",
   "nbconvert_exporter": "python",
   "pygments_lexer": "ipython3",
   "version": "3.9.12"
  }
 },
 "nbformat": 4,
 "nbformat_minor": 5
}
