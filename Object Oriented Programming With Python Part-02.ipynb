{
 "cells": [
  {
   "cell_type": "code",
   "execution_count": 2,
   "id": "50c2c9d2",
   "metadata": {},
   "outputs": [
    {
     "name": "stdout",
     "output_type": "stream",
     "text": [
      "[5, 6, 7, 8, 9, 10, 11, 12, 13, 14, 15, 16, 17, 18, 19, 20, 21, 22, 23, 24, 25, 26, 27, 28, 29, 30, 31, 32, 33, 34, 35, 36, 37, 38, 39, 40, 41, 42, 43, 44, 45, 46, 47, 48, 49, 50, 51, 52, 53, 54, 55, 56, 57, 58, 59, 60, 61, 62, 63, 64, 65, 66, 67, 68, 69, 70, 71, 72, 73, 74, 75, 76, 77, 78, 79, 80, 81, 82, 83, 84, 85, 86, 87, 88, 89, 90, 91, 92, 93, 94, 95, 96, 97, 98, 99, 100]\n"
     ]
    }
   ],
   "source": [
    "# Using range, create a list with numbers ranging from 5-100.\n",
    "\n",
    "# Create an empty list\n",
    "My_list = []\n",
    "  \n",
    "# Value to begin and end with\n",
    "start, end = 5, 100\n",
    "  \n",
    "# Check if start value is smaller than end value\n",
    "if start < end:\n",
    "    # unpack the result\n",
    "    My_list.extend(range(start, end))\n",
    "    # Append the last value\n",
    "    My_list.append(end)\n",
    "  \n",
    "# Print the list\n",
    "print(My_list)"
   ]
  },
  {
   "cell_type": "code",
   "execution_count": 3,
   "id": "66aba0b1",
   "metadata": {},
   "outputs": [
    {
     "name": "stdout",
     "output_type": "stream",
     "text": [
      "5\n"
     ]
    }
   ],
   "source": [
    "# Negative Indexing In Python.\n",
    "\n",
    "numbers = [1, 2, 3, 4, 5]\n",
    "last = numbers[-1]\n",
    "print(last)"
   ]
  },
  {
   "cell_type": "code",
   "execution_count": 4,
   "id": "7f805ffd",
   "metadata": {},
   "outputs": [
    {
     "name": "stdout",
     "output_type": "stream",
     "text": [
      "4\n"
     ]
    }
   ],
   "source": [
    "# Negative Indexing In Python.\n",
    "\n",
    "numbers = [1, 2, 3, 4, 5]\n",
    "last = numbers[-2]\n",
    "print(last)"
   ]
  },
  {
   "cell_type": "code",
   "execution_count": 5,
   "id": "cd0954d9",
   "metadata": {},
   "outputs": [
    {
     "name": "stdout",
     "output_type": "stream",
     "text": [
      "2\n"
     ]
    }
   ],
   "source": [
    "# Negative Indexing In Python.\n",
    "\n",
    "numbers = [1, 2, 3, 4, 5]\n",
    "last = numbers[-4]\n",
    "print(last)"
   ]
  },
  {
   "cell_type": "code",
   "execution_count": 6,
   "id": "690e82f1",
   "metadata": {},
   "outputs": [
    {
     "name": "stdout",
     "output_type": "stream",
     "text": [
      "John\n",
      "36\n"
     ]
    }
   ],
   "source": [
    "# Create a class named Person.\n",
    "\n",
    "class Person:\n",
    "  def __init__(self, name, age):\n",
    "    self.name = name\n",
    "    self.age = age\n",
    "\n",
    "p1 = Person(\"John\", 36)\n",
    "\n",
    "print(p1.name)\n",
    "print(p1.age)"
   ]
  },
  {
   "cell_type": "code",
   "execution_count": 7,
   "id": "74c93abc",
   "metadata": {},
   "outputs": [
    {
     "name": "stdout",
     "output_type": "stream",
     "text": [
      "7 \n",
      "5 \n",
      "3 \n",
      "1 \n",
      "2 \n",
      "4 \n"
     ]
    }
   ],
   "source": [
    "# Sort all even numbers in ascending order and then sort all odd numbers in descending order.\n",
    "\n",
    "def two_way_sort(arr, arr_len):\n",
    "     \n",
    "    l, r = 0, arr_len - 1\n",
    "     \n",
    "    k = 0\n",
    "     \n",
    "    while(l < r):\n",
    "         \n",
    "        while(arr[l] % 2 != 0):\n",
    "            l += 1\n",
    "            k += 1\n",
    "   \n",
    "        while(arr[r] % 2 == 0 and l < r):\n",
    "            r -= 1\n",
    "        \n",
    "        if(l < r):\n",
    "            arr[l], arr[r] = arr[r], arr[l]\n",
    "             \n",
    "  \n",
    "    odd = arr[:k]\n",
    "    even = arr[k:]\n",
    "     \n",
    "    odd.sort(reverse = True)\n",
    "    even.sort()\n",
    "\n",
    "    odd.extend(even)\n",
    "     \n",
    "    return odd\n",
    "arr_len = 6\n",
    "arr = [1, 3, 2, 7, 5, 4]\n",
    "result = two_way_sort(arr, arr_len)\n",
    "for i in result:\n",
    "    print(str(i) + \" \"),"
   ]
  },
  {
   "cell_type": "code",
   "execution_count": 8,
   "id": "f20e2192",
   "metadata": {},
   "outputs": [
    {
     "name": "stdout",
     "output_type": "stream",
     "text": [
      "Thw tuple is : \n",
      "((6, 'Will', 13), (2, 'Mark', 15), (9, 'Rob', 12))\n",
      "The converted dictionary is : \n",
      "[{'key': 6, 'value': 'Will', 'id': 13}, {'key': 2, 'value': 'Mark', 'id': 15}, {'key': 9, 'value': 'Rob', 'id': 12}]\n"
     ]
    }
   ],
   "source": [
    "# Convert Nested Tuple to Custom Key Dictionary in Python.\n",
    "\n",
    "my_tuple = ((6, 'Will', 13), (2, 'Mark', 15), (9, 'Rob', 12))\n",
    "\n",
    "print(\"Thw tuple is : \")\n",
    "print(my_tuple)\n",
    "\n",
    "my_result = [{'key': sub[0], 'value': sub[1], 'id': sub[2]}\n",
    "   for sub in my_tuple]\n",
    "\n",
    "print(\"The converted dictionary is : \")\n",
    "print(my_result)"
   ]
  },
  {
   "cell_type": "code",
   "execution_count": 11,
   "id": "fae3ad3e",
   "metadata": {},
   "outputs": [
    {
     "name": "stdout",
     "output_type": "stream",
     "text": [
      "((10, 'Itika', 13000),)\n",
      "((10, 'Itika', 13000), (24, 'Harry', 15294), (15, 'Naill', 20001), (40, 'Peter', 16395))\n"
     ]
    }
   ],
   "source": [
    "# Python program to create a nested tuple.\n",
    "\n",
    "employee = ((10, \"Itika\", 13000),)  \n",
    "print(employee)  \n",
    "   \n",
    "employee = ((10, \"Itika\", 13000), (24, \"Harry\", 15294), (15, \"Naill\", 20001), (40, \"Peter\", 16395))  \n",
    "print(employee)  "
   ]
  },
  {
   "cell_type": "code",
   "execution_count": 12,
   "id": "f3f0fed3",
   "metadata": {},
   "outputs": [
    {
     "name": "stdout",
     "output_type": "stream",
     "text": [
      "{'Java', 'C#', 'Python'}\n"
     ]
    }
   ],
   "source": [
    "# Union sets using union() method.\n",
    "\n",
    "s1 = {'Python', 'Java'}\n",
    "s2 = {'C#', 'Java'}\n",
    "\n",
    "s = s1.union(s2)\n",
    "\n",
    "print(s)"
   ]
  },
  {
   "cell_type": "code",
   "execution_count": 13,
   "id": "89979f7b",
   "metadata": {},
   "outputs": [
    {
     "name": "stdout",
     "output_type": "stream",
     "text": [
      "A U B =  {1, 2, 3, 5}\n"
     ]
    }
   ],
   "source": [
    "# Python Set union.\n",
    "\n",
    "A = {2, 3, 5}\n",
    "B = {1, 3, 5}\n",
    "\n",
    "# compute union between A and B\n",
    "print('A U B = ', A.union(B))"
   ]
  },
  {
   "cell_type": "code",
   "execution_count": 14,
   "id": "c5cdfb36",
   "metadata": {},
   "outputs": [
    {
     "name": "stdout",
     "output_type": "stream",
     "text": [
      "John\n",
      "27\n",
      "Male\n"
     ]
    }
   ],
   "source": [
    "# Access elements of a Nested Dictionary.\n",
    "\n",
    "people = {1: {'name': 'John', 'age': '27', 'sex': 'Male'},\n",
    "          2: {'name': 'Marie', 'age': '22', 'sex': 'Female'}}\n",
    "\n",
    "print(people[1]['name'])\n",
    "print(people[1]['age'])\n",
    "print(people[1]['sex'])"
   ]
  },
  {
   "cell_type": "code",
   "execution_count": 15,
   "id": "fe459b42",
   "metadata": {},
   "outputs": [
    {
     "name": "stdout",
     "output_type": "stream",
     "text": [
      "How many terms the user wants to print? 12\n",
      "The fibonacci sequence of the numbers is:\n",
      "0\n",
      "1\n",
      "1\n",
      "2\n",
      "3\n",
      "5\n",
      "8\n",
      "13\n",
      "21\n",
      "34\n",
      "55\n",
      "89\n"
     ]
    }
   ],
   "source": [
    "# Python Program to Print the Fibonacci sequence.\n",
    "\n",
    "n_terms = int(input (\"How many terms the user wants to print? \"))  \n",
    "  \n",
    "# First two terms  \n",
    "n_1 = 0  \n",
    "n_2 = 1  \n",
    "count = 0  \n",
    "  \n",
    "# Now, we will check if the number of terms is valid or not  \n",
    "if n_terms <= 0:  \n",
    "    print (\"Please enter a positive integer, the given number is not valid\")  \n",
    "# if there is only one term, it will return n_1  \n",
    "elif n_terms == 1:  \n",
    "    print (\"The Fibonacci sequence of the numbers up to\", n_terms, \": \")  \n",
    "    print(n_1)  \n",
    "# Then we will generate Fibonacci sequence of number  \n",
    "else:  \n",
    "    print (\"The fibonacci sequence of the numbers is:\")  \n",
    "    while count < n_terms:  \n",
    "        print(n_1)  \n",
    "        nth = n_1 + n_2  \n",
    "       # At last, we will update values  \n",
    "        n_1 = n_2  \n",
    "        n_2 = nth  \n",
    "        count += 1  "
   ]
  },
  {
   "cell_type": "code",
   "execution_count": 16,
   "id": "2bcddfbb",
   "metadata": {},
   "outputs": [
    {
     "name": "stdout",
     "output_type": "stream",
     "text": [
      "How many terms? 34\n",
      "Fibonacci sequence:\n",
      "0\n",
      "1\n",
      "1\n",
      "2\n",
      "3\n",
      "5\n",
      "8\n",
      "13\n",
      "21\n",
      "34\n",
      "55\n",
      "89\n",
      "144\n",
      "233\n",
      "377\n",
      "610\n",
      "987\n",
      "1597\n",
      "2584\n",
      "4181\n",
      "6765\n",
      "10946\n",
      "17711\n",
      "28657\n",
      "46368\n",
      "75025\n",
      "121393\n",
      "196418\n",
      "317811\n",
      "514229\n",
      "832040\n",
      "1346269\n",
      "2178309\n",
      "3524578\n"
     ]
    }
   ],
   "source": [
    "# Python Program to Print the Fibonacci sequence.\n",
    "\n",
    "nterms = int(input(\"How many terms? \"))\n",
    "\n",
    "n1, n2 = 0, 1\n",
    "count = 0\n",
    "\n",
    "if nterms <= 0:\n",
    "   print(\"Please enter a positive integer\")\n",
    "\n",
    "elif nterms == 1:\n",
    "   print(\"Fibonacci sequence upto\",nterms,\":\")\n",
    "   print(n1)\n",
    "else:\n",
    "   print(\"Fibonacci sequence:\")\n",
    "   while count < nterms:\n",
    "       print(n1)\n",
    "       nth = n1 + n2\n",
    "       # update values\n",
    "       n1 = n2\n",
    "       n2 = nth\n",
    "       count += 1"
   ]
  },
  {
   "cell_type": "code",
   "execution_count": 19,
   "id": "5017842d",
   "metadata": {},
   "outputs": [],
   "source": [
    "# Basic calculator program using Python.\n",
    "\n",
    "# pip install tkinter\n",
    "import tkinter as tk\n",
    "import tkinter.messagebox\n",
    "from tkinter.constants import SUNKEN\n",
    " \n",
    "window = tk.Tk()\n",
    "window.title('Calculator-GeeksForGeeks')\n",
    "frame = tk.Frame(master=window, bg=\"skyblue\", padx=10)\n",
    "frame.pack()\n",
    "entry = tk.Entry(master=frame, relief=SUNKEN, borderwidth=3, width=30)\n",
    "entry.grid(row=0, column=0, columnspan=3, ipady=2, pady=2)\n",
    " \n",
    " \n",
    "def myclick(number):\n",
    "    entry.insert(tk.END, number)\n",
    " \n",
    " \n",
    "def equal():\n",
    "    try:\n",
    "        y = str(eval(entry.get()))\n",
    "        entry.delete(0, tk.END)\n",
    "        entry.insert(0, y)\n",
    "    except:\n",
    "        tkinter.messagebox.showinfo(\"Error\", \"Syntax Error\")\n",
    " \n",
    " \n",
    "def clear():\n",
    "    entry.delete(0, tk.END)\n",
    " \n",
    " \n",
    "button_1 = tk.Button(master=frame, text='1', padx=15,\n",
    "                     pady=5, width=3, command=lambda: myclick(1))\n",
    "button_1.grid(row=1, column=0, pady=2)\n",
    "button_2 = tk.Button(master=frame, text='2', padx=15,\n",
    "                     pady=5, width=3, command=lambda: myclick(2))\n",
    "button_2.grid(row=1, column=1, pady=2)\n",
    "button_3 = tk.Button(master=frame, text='3', padx=15,\n",
    "                     pady=5, width=3, command=lambda: myclick(3))\n",
    "button_3.grid(row=1, column=2, pady=2)\n",
    "button_4 = tk.Button(master=frame, text='4', padx=15,\n",
    "                     pady=5, width=3, command=lambda: myclick(4))\n",
    "button_4.grid(row=2, column=0, pady=2)\n",
    "button_5 = tk.Button(master=frame, text='5', padx=15,\n",
    "                     pady=5, width=3, command=lambda: myclick(5))\n",
    "button_5.grid(row=2, column=1, pady=2)\n",
    "button_6 = tk.Button(master=frame, text='6', padx=15,\n",
    "                     pady=5, width=3, command=lambda: myclick(6))\n",
    "button_6.grid(row=2, column=2, pady=2)\n",
    "button_7 = tk.Button(master=frame, text='7', padx=15,\n",
    "                     pady=5, width=3, command=lambda: myclick(7))\n",
    "button_7.grid(row=3, column=0, pady=2)\n",
    "button_8 = tk.Button(master=frame, text='8', padx=15,\n",
    "                     pady=5, width=3, command=lambda: myclick(8))\n",
    "button_8.grid(row=3, column=1, pady=2)\n",
    "button_9 = tk.Button(master=frame, text='9', padx=15,\n",
    "                     pady=5, width=3, command=lambda: myclick(9))\n",
    "button_9.grid(row=3, column=2, pady=2)\n",
    "button_0 = tk.Button(master=frame, text='0', padx=15,\n",
    "                     pady=5, width=3, command=lambda: myclick(0))\n",
    "button_0.grid(row=4, column=1, pady=2)\n",
    " \n",
    "button_add = tk.Button(master=frame, text=\"+\", padx=15,\n",
    "                       pady=5, width=3, command=lambda: myclick('+'))\n",
    "button_add.grid(row=5, column=0, pady=2)\n",
    " \n",
    "button_subtract = tk.Button(\n",
    "    master=frame, text=\"-\", padx=15, pady=5, width=3, command=lambda: myclick('-'))\n",
    "button_subtract.grid(row=5, column=1, pady=2)\n",
    " \n",
    "button_multiply = tk.Button(\n",
    "    master=frame, text=\"*\", padx=15, pady=5, width=3, command=lambda: myclick('*'))\n",
    "button_multiply.grid(row=5, column=2, pady=2)\n",
    " \n",
    "button_div = tk.Button(master=frame, text=\"/\", padx=15,\n",
    "                       pady=5, width=3, command=lambda: myclick('/'))\n",
    "button_div.grid(row=6, column=0, pady=2)\n",
    " \n",
    "button_clear = tk.Button(master=frame, text=\"clear\",\n",
    "                         padx=15, pady=5, width=12, command=clear)\n",
    "button_clear.grid(row=6, column=1, columnspan=2, pady=2)\n",
    " \n",
    "button_equal = tk.Button(master=frame, text=\"=\", padx=15,\n",
    "                         pady=5, width=9, command=equal)\n",
    "button_equal.grid(row=7, column=0, columnspan=3, pady=2)\n",
    " \n",
    "window.mainloop()"
   ]
  },
  {
   "cell_type": "code",
   "execution_count": 21,
   "id": "65a534f4",
   "metadata": {},
   "outputs": [
    {
     "name": "stdout",
     "output_type": "stream",
     "text": [
      "Given number is a three-digit Armstrong Number\n"
     ]
    }
   ],
   "source": [
    "# Python program to check whether the number is Armstrong or not.\n",
    "\n",
    "number = 153\n",
    "temp = number\n",
    "add_sum = 0\n",
    "while temp != 0:\n",
    "    k = temp % 10\n",
    "    add_sum += k*k*k\n",
    "    temp = temp//10\n",
    "if add_sum == number:\n",
    "    print('Given number is a three-digit Armstrong Number')\n",
    "else:\n",
    "    print('Given number is not an Armstrong Number')"
   ]
  },
  {
   "cell_type": "code",
   "execution_count": 23,
   "id": "b819985f",
   "metadata": {},
   "outputs": [
    {
     "name": "stdout",
     "output_type": "stream",
     "text": [
      "19 is a prime number\n"
     ]
    }
   ],
   "source": [
    "# Python program to check whether a number is Prime or not.\n",
    "\n",
    "num = 19\n",
    "\n",
    "if num > 1:\n",
    "    \n",
    "    for i in range(2, int(num/2)+1):\n",
    "        \n",
    "        if (num % i) == 0:\n",
    "            print(num, \"is not a prime number\")\n",
    "            break\n",
    "    else:\n",
    "        print(num, \"is a prime number\")\n",
    "else:\n",
    "    print(num, \"is not a prime number\")"
   ]
  },
  {
   "cell_type": "code",
   "execution_count": 25,
   "id": "35f16be0",
   "metadata": {},
   "outputs": [
    {
     "name": "stdout",
     "output_type": "stream",
     "text": [
      "153.93804002589985\n"
     ]
    }
   ],
   "source": [
    "# Find the area of the circle. \n",
    "\n",
    "import math\n",
    " \n",
    "r = 7\n",
    " \n",
    "pie = math.pi\n",
    " \n",
    "print(pie * r * r)"
   ]
  },
  {
   "cell_type": "code",
   "execution_count": 26,
   "id": "6e2dae0d",
   "metadata": {},
   "outputs": [
    {
     "name": "stdout",
     "output_type": "stream",
     "text": [
      "3.141592653589793\n",
      "720\n"
     ]
    }
   ],
   "source": [
    "# From module_name import * \n",
    "\n",
    "from math import *\n",
    "print(pi)\n",
    "print(factorial(6))"
   ]
  },
  {
   "cell_type": "code",
   "execution_count": 28,
   "id": "fe03b6ae",
   "metadata": {},
   "outputs": [
    {
     "name": "stdout",
     "output_type": "stream",
     "text": [
      "Rodger is a mammal\n",
      "Tommy is also a mammal\n",
      "My name is Rodger\n",
      "My name is Tommy\n"
     ]
    }
   ],
   "source": [
    "# Creating a class and object with class and instance attributes.\n",
    "\n",
    "class Dog:\n",
    " \n",
    "    # class attribute\n",
    "    attr1 = \"mammal\"\n",
    " \n",
    "    # Instance attribute\n",
    "    def __init__(self, name):\n",
    "        self.name = name\n",
    " \n",
    "# Driver code\n",
    "# Object instantiation\n",
    "Rodger = Dog(\"Rodger\")\n",
    "Tommy = Dog(\"Tommy\")\n",
    " \n",
    "# Accessing class attributes\n",
    "print(\"Rodger is a {}\".format(Rodger.__class__.attr1))\n",
    "print(\"Tommy is also a {}\".format(Tommy.__class__.attr1))\n",
    " \n",
    "# Accessing instance attributes\n",
    "print(\"My name is {}\".format(Rodger.name))\n",
    "print(\"My name is {}\".format(Tommy.name))"
   ]
  },
  {
   "cell_type": "code",
   "execution_count": 29,
   "id": "732d6849",
   "metadata": {},
   "outputs": [
    {
     "name": "stdout",
     "output_type": "stream",
     "text": [
      "Employee: Harry 12000 ABC Company\n",
      "Employee: Emma 10000 ABC Company\n"
     ]
    }
   ],
   "source": [
    "# Creating Class and Object in Python.\n",
    "\n",
    "class Employee:\n",
    "    # class variables\n",
    "    company_name = 'ABC Company'\n",
    "\n",
    "    # constructor to initialize the object\n",
    "    def __init__(self, name, salary):\n",
    "        # instance variables\n",
    "        self.name = name\n",
    "        self.salary = salary\n",
    "\n",
    "    # instance method\n",
    "    def show(self):\n",
    "        print('Employee:', self.name, self.salary, self.company_name)\n",
    "\n",
    "# create first object\n",
    "emp1 = Employee(\"Harry\", 12000)\n",
    "emp1.show()\n",
    "\n",
    "# create second object\n",
    "emp2 = Employee(\"Emma\", 10000)\n",
    "emp2.show()"
   ]
  },
  {
   "cell_type": "code",
   "execution_count": 30,
   "id": "138bb09f",
   "metadata": {},
   "outputs": [
    {
     "name": "stdout",
     "output_type": "stream",
     "text": [
      "Area of circle : 78.5\n",
      "Area of Rectangle : 50\n"
     ]
    }
   ],
   "source": [
    "# Using Polymorphism in Python.\n",
    "\n",
    "class Circle:\n",
    "    pi = 3.14\n",
    "\n",
    "    def __init__(self, redius):\n",
    "        self.radius = redius\n",
    "\n",
    "    def calculate_area(self):\n",
    "        print(\"Area of circle :\", self.pi * self.radius * self.radius)\n",
    "\n",
    "class Rectangle:\n",
    "    def __init__(self, length, width):\n",
    "        self.length = length\n",
    "        self.width = width\n",
    "\n",
    "    def calculate_area(self):\n",
    "        print(\"Area of Rectangle :\", self.length * self.width)\n",
    "\n",
    "def area(shape):\n",
    "    # call action\n",
    "    shape.calculate_area()\n",
    "\n",
    "cir = Circle(5)\n",
    "rect = Rectangle(10, 5)\n",
    "\n",
    "area(cir)\n",
    "area(rect)"
   ]
  },
  {
   "cell_type": "code",
   "execution_count": 32,
   "id": "e0d10357",
   "metadata": {},
   "outputs": [
    {
     "name": "stdout",
     "output_type": "stream",
     "text": [
      "BMW X1 Black 35000\n",
      "BMW X1 change gear to number 5\n"
     ]
    }
   ],
   "source": [
    "# Use of Inheritance in Python.\n",
    "\n",
    "class Vehicle:\n",
    "\n",
    "    def __init__(self, name, color, price):\n",
    "        self.name = name\n",
    "        self.color = color\n",
    "        self.price = price\n",
    "\n",
    "    def info(self):\n",
    "        print(self.name, self.color, self.price)\n",
    "\n",
    "# Child class\n",
    "class Car(Vehicle):\n",
    "\n",
    "    def change_gear(self, no):\n",
    "        print(self.name, 'change gear to number', no)\n",
    "\n",
    "# Create object of Car\n",
    "car = Car('BMW X1', 'Black', 35000)\n",
    "car.info()\n",
    "car.change_gear(5)"
   ]
  }
 ],
 "metadata": {
  "kernelspec": {
   "display_name": "Python 3 (ipykernel)",
   "language": "python",
   "name": "python3"
  },
  "language_info": {
   "codemirror_mode": {
    "name": "ipython",
    "version": 3
   },
   "file_extension": ".py",
   "mimetype": "text/x-python",
   "name": "python",
   "nbconvert_exporter": "python",
   "pygments_lexer": "ipython3",
   "version": "3.9.13"
  }
 },
 "nbformat": 4,
 "nbformat_minor": 5
}
